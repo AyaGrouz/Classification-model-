{
 "cells": [
  {
   "cell_type": "code",
   "execution_count": 1,
   "id": "5e82ee7f",
   "metadata": {},
   "outputs": [],
   "source": [
    "import pandas as pd # data processing, CSV file I/O (e.g. pd.read_csv)\n",
    "import matplotlib.pyplot as plt\n",
    "import seaborn as sns\n",
    "from sklearn import preprocessing \n",
    "import numpy as np  \n",
    "# Classifier Libraries\n",
    "from sklearn.linear_model import LogisticRegression\n",
    "from sklearn.neighbors import KNeighborsClassifier\n",
    "from sklearn.tree import DecisionTreeClassifier\n",
    "from sklearn.ensemble import RandomForestClassifier \n",
    "from sklearn.pipeline import make_pipeline\n",
    "from sklearn.preprocessing import StandardScaler\n",
    "from sklearn.model_selection import train_test_split\n",
    "from collections import Counter \n",
    "from sklearn.feature_selection import SelectKBest , chi2  \n",
    "from mlxtend.feature_selection import SequentialFeatureSelector as SFS  \n",
    "import time"
   ]
  },
  {
   "cell_type": "code",
   "execution_count": 2,
   "id": "32eee440",
   "metadata": {},
   "outputs": [
    {
     "name": "stdout",
     "output_type": "stream",
     "text": [
      "Note: you may need to restart the kernel to use updated packages.Requirement already satisfied: mlxtend in c:\\programdata\\anaconda3\\lib\\site-packages (0.20.0)\n"
     ]
    },
    {
     "name": "stderr",
     "output_type": "stream",
     "text": [
      "WARNING: Ignoring invalid distribution -cikit-learn (c:\\programdata\\anaconda3\\lib\\site-packages)\n",
      "WARNING: Ignoring invalid distribution -cikit-learn (c:\\programdata\\anaconda3\\lib\\site-packages)\n",
      "WARNING: Ignoring invalid distribution -cikit-learn (c:\\programdata\\anaconda3\\lib\\site-packages)\n",
      "WARNING: Ignoring invalid distribution -cikit-learn (c:\\programdata\\anaconda3\\lib\\site-packages)\n",
      "WARNING: Ignoring invalid distribution -cikit-learn (c:\\programdata\\anaconda3\\lib\\site-packages)\n",
      "WARNING: Ignoring invalid distribution -cikit-learn (c:\\programdata\\anaconda3\\lib\\site-packages)\n"
     ]
    },
    {
     "name": "stdout",
     "output_type": "stream",
     "text": [
      "\n",
      "Requirement already satisfied: matplotlib>=3.0.0 in c:\\programdata\\anaconda3\\lib\\site-packages (from mlxtend) (3.4.3)\n",
      "Requirement already satisfied: numpy>=1.16.2 in c:\\programdata\\anaconda3\\lib\\site-packages (from mlxtend) (1.20.3)\n",
      "Requirement already satisfied: scikit-learn>=1.0.2 in c:\\programdata\\anaconda3\\lib\\site-packages (from mlxtend) (1.0.2)\n",
      "Requirement already satisfied: pandas>=0.24.2 in c:\\programdata\\anaconda3\\lib\\site-packages (from mlxtend) (1.3.4)\n",
      "Requirement already satisfied: joblib>=0.13.2 in c:\\programdata\\anaconda3\\lib\\site-packages (from mlxtend) (1.1.0)\n",
      "Requirement already satisfied: setuptools in c:\\programdata\\anaconda3\\lib\\site-packages (from mlxtend) (58.0.4)\n",
      "Requirement already satisfied: scipy>=1.2.1 in c:\\programdata\\anaconda3\\lib\\site-packages (from mlxtend) (1.7.1)\n",
      "Requirement already satisfied: cycler>=0.10 in c:\\programdata\\anaconda3\\lib\\site-packages (from matplotlib>=3.0.0->mlxtend) (0.10.0)\n",
      "Requirement already satisfied: python-dateutil>=2.7 in c:\\programdata\\anaconda3\\lib\\site-packages (from matplotlib>=3.0.0->mlxtend) (2.8.2)\n",
      "Requirement already satisfied: kiwisolver>=1.0.1 in c:\\programdata\\anaconda3\\lib\\site-packages (from matplotlib>=3.0.0->mlxtend) (1.3.1)\n",
      "Requirement already satisfied: pyparsing>=2.2.1 in c:\\programdata\\anaconda3\\lib\\site-packages (from matplotlib>=3.0.0->mlxtend) (3.0.4)\n",
      "Requirement already satisfied: pillow>=6.2.0 in c:\\programdata\\anaconda3\\lib\\site-packages (from matplotlib>=3.0.0->mlxtend) (8.4.0)\n",
      "Requirement already satisfied: six in c:\\programdata\\anaconda3\\lib\\site-packages (from cycler>=0.10->matplotlib>=3.0.0->mlxtend) (1.16.0)\n",
      "Requirement already satisfied: pytz>=2017.3 in c:\\programdata\\anaconda3\\lib\\site-packages (from pandas>=0.24.2->mlxtend) (2021.3)\n",
      "Requirement already satisfied: threadpoolctl>=2.0.0 in c:\\programdata\\anaconda3\\lib\\site-packages (from scikit-learn>=1.0.2->mlxtend) (2.2.0)\n"
     ]
    }
   ],
   "source": [
    "pip install mlxtend"
   ]
  },
  {
   "cell_type": "code",
   "execution_count": 3,
   "id": "c4b7039e",
   "metadata": {},
   "outputs": [],
   "source": [
    "# Dans cette partie , je vais tester plusieurs techniques de selection des variables à fin de minimiser la taille de dataset et d'illiminer \n",
    "# les caractéritiques non significatives. \n",
    "# On va travailler sur la techniques de normalisation déjà validée précédemment   "
   ]
  },
  {
   "cell_type": "code",
   "execution_count": 4,
   "id": "bebf1a7c",
   "metadata": {},
   "outputs": [
    {
     "data": {
      "text/html": [
       "<div>\n",
       "<style scoped>\n",
       "    .dataframe tbody tr th:only-of-type {\n",
       "        vertical-align: middle;\n",
       "    }\n",
       "\n",
       "    .dataframe tbody tr th {\n",
       "        vertical-align: top;\n",
       "    }\n",
       "\n",
       "    .dataframe thead th {\n",
       "        text-align: right;\n",
       "    }\n",
       "</style>\n",
       "<table border=\"1\" class=\"dataframe\">\n",
       "  <thead>\n",
       "    <tr style=\"text-align: right;\">\n",
       "      <th></th>\n",
       "      <th>duration</th>\n",
       "      <th>protocol_type</th>\n",
       "      <th>service</th>\n",
       "      <th>flag</th>\n",
       "      <th>src_bytes</th>\n",
       "      <th>dst_bytes</th>\n",
       "      <th>land</th>\n",
       "      <th>wrong_fragment</th>\n",
       "      <th>urgent</th>\n",
       "      <th>hot</th>\n",
       "      <th>...</th>\n",
       "      <th>dst_host_srv_count</th>\n",
       "      <th>dst_host_same_srv_rate</th>\n",
       "      <th>dst_host_diff_srv_rate</th>\n",
       "      <th>dst_host_same_src_port_rate</th>\n",
       "      <th>dst_host_srv_diff_host_rate</th>\n",
       "      <th>dst_host_serror_rate</th>\n",
       "      <th>dst_host_srv_serror_rate</th>\n",
       "      <th>dst_host_rerror_rate</th>\n",
       "      <th>dst_host_srv_rerror_rate</th>\n",
       "      <th>class</th>\n",
       "    </tr>\n",
       "  </thead>\n",
       "  <tbody>\n",
       "    <tr>\n",
       "      <th>0</th>\n",
       "      <td>0</td>\n",
       "      <td>tcp</td>\n",
       "      <td>ftp_data</td>\n",
       "      <td>SF</td>\n",
       "      <td>491</td>\n",
       "      <td>0</td>\n",
       "      <td>0</td>\n",
       "      <td>0</td>\n",
       "      <td>0</td>\n",
       "      <td>0</td>\n",
       "      <td>...</td>\n",
       "      <td>25</td>\n",
       "      <td>0.17</td>\n",
       "      <td>0.03</td>\n",
       "      <td>0.17</td>\n",
       "      <td>0.00</td>\n",
       "      <td>0.00</td>\n",
       "      <td>0.00</td>\n",
       "      <td>0.05</td>\n",
       "      <td>0.00</td>\n",
       "      <td>normal</td>\n",
       "    </tr>\n",
       "    <tr>\n",
       "      <th>1</th>\n",
       "      <td>0</td>\n",
       "      <td>udp</td>\n",
       "      <td>other</td>\n",
       "      <td>SF</td>\n",
       "      <td>146</td>\n",
       "      <td>0</td>\n",
       "      <td>0</td>\n",
       "      <td>0</td>\n",
       "      <td>0</td>\n",
       "      <td>0</td>\n",
       "      <td>...</td>\n",
       "      <td>1</td>\n",
       "      <td>0.00</td>\n",
       "      <td>0.60</td>\n",
       "      <td>0.88</td>\n",
       "      <td>0.00</td>\n",
       "      <td>0.00</td>\n",
       "      <td>0.00</td>\n",
       "      <td>0.00</td>\n",
       "      <td>0.00</td>\n",
       "      <td>normal</td>\n",
       "    </tr>\n",
       "    <tr>\n",
       "      <th>2</th>\n",
       "      <td>0</td>\n",
       "      <td>tcp</td>\n",
       "      <td>private</td>\n",
       "      <td>S0</td>\n",
       "      <td>0</td>\n",
       "      <td>0</td>\n",
       "      <td>0</td>\n",
       "      <td>0</td>\n",
       "      <td>0</td>\n",
       "      <td>0</td>\n",
       "      <td>...</td>\n",
       "      <td>26</td>\n",
       "      <td>0.10</td>\n",
       "      <td>0.05</td>\n",
       "      <td>0.00</td>\n",
       "      <td>0.00</td>\n",
       "      <td>1.00</td>\n",
       "      <td>1.00</td>\n",
       "      <td>0.00</td>\n",
       "      <td>0.00</td>\n",
       "      <td>anomaly</td>\n",
       "    </tr>\n",
       "    <tr>\n",
       "      <th>3</th>\n",
       "      <td>0</td>\n",
       "      <td>tcp</td>\n",
       "      <td>http</td>\n",
       "      <td>SF</td>\n",
       "      <td>232</td>\n",
       "      <td>8153</td>\n",
       "      <td>0</td>\n",
       "      <td>0</td>\n",
       "      <td>0</td>\n",
       "      <td>0</td>\n",
       "      <td>...</td>\n",
       "      <td>255</td>\n",
       "      <td>1.00</td>\n",
       "      <td>0.00</td>\n",
       "      <td>0.03</td>\n",
       "      <td>0.04</td>\n",
       "      <td>0.03</td>\n",
       "      <td>0.01</td>\n",
       "      <td>0.00</td>\n",
       "      <td>0.01</td>\n",
       "      <td>normal</td>\n",
       "    </tr>\n",
       "    <tr>\n",
       "      <th>4</th>\n",
       "      <td>0</td>\n",
       "      <td>tcp</td>\n",
       "      <td>http</td>\n",
       "      <td>SF</td>\n",
       "      <td>199</td>\n",
       "      <td>420</td>\n",
       "      <td>0</td>\n",
       "      <td>0</td>\n",
       "      <td>0</td>\n",
       "      <td>0</td>\n",
       "      <td>...</td>\n",
       "      <td>255</td>\n",
       "      <td>1.00</td>\n",
       "      <td>0.00</td>\n",
       "      <td>0.00</td>\n",
       "      <td>0.00</td>\n",
       "      <td>0.00</td>\n",
       "      <td>0.00</td>\n",
       "      <td>0.00</td>\n",
       "      <td>0.00</td>\n",
       "      <td>normal</td>\n",
       "    </tr>\n",
       "    <tr>\n",
       "      <th>...</th>\n",
       "      <td>...</td>\n",
       "      <td>...</td>\n",
       "      <td>...</td>\n",
       "      <td>...</td>\n",
       "      <td>...</td>\n",
       "      <td>...</td>\n",
       "      <td>...</td>\n",
       "      <td>...</td>\n",
       "      <td>...</td>\n",
       "      <td>...</td>\n",
       "      <td>...</td>\n",
       "      <td>...</td>\n",
       "      <td>...</td>\n",
       "      <td>...</td>\n",
       "      <td>...</td>\n",
       "      <td>...</td>\n",
       "      <td>...</td>\n",
       "      <td>...</td>\n",
       "      <td>...</td>\n",
       "      <td>...</td>\n",
       "      <td>...</td>\n",
       "    </tr>\n",
       "    <tr>\n",
       "      <th>148512</th>\n",
       "      <td>0</td>\n",
       "      <td>tcp</td>\n",
       "      <td>smtp</td>\n",
       "      <td>SF</td>\n",
       "      <td>794</td>\n",
       "      <td>333</td>\n",
       "      <td>0</td>\n",
       "      <td>0</td>\n",
       "      <td>0</td>\n",
       "      <td>0</td>\n",
       "      <td>...</td>\n",
       "      <td>141</td>\n",
       "      <td>0.72</td>\n",
       "      <td>0.06</td>\n",
       "      <td>0.01</td>\n",
       "      <td>0.01</td>\n",
       "      <td>0.01</td>\n",
       "      <td>0.00</td>\n",
       "      <td>0.00</td>\n",
       "      <td>0.00</td>\n",
       "      <td>normal</td>\n",
       "    </tr>\n",
       "    <tr>\n",
       "      <th>148513</th>\n",
       "      <td>0</td>\n",
       "      <td>tcp</td>\n",
       "      <td>http</td>\n",
       "      <td>SF</td>\n",
       "      <td>317</td>\n",
       "      <td>938</td>\n",
       "      <td>0</td>\n",
       "      <td>0</td>\n",
       "      <td>0</td>\n",
       "      <td>0</td>\n",
       "      <td>...</td>\n",
       "      <td>255</td>\n",
       "      <td>1.00</td>\n",
       "      <td>0.00</td>\n",
       "      <td>0.01</td>\n",
       "      <td>0.01</td>\n",
       "      <td>0.01</td>\n",
       "      <td>0.00</td>\n",
       "      <td>0.00</td>\n",
       "      <td>0.00</td>\n",
       "      <td>normal</td>\n",
       "    </tr>\n",
       "    <tr>\n",
       "      <th>148514</th>\n",
       "      <td>0</td>\n",
       "      <td>tcp</td>\n",
       "      <td>http</td>\n",
       "      <td>SF</td>\n",
       "      <td>54540</td>\n",
       "      <td>8314</td>\n",
       "      <td>0</td>\n",
       "      <td>0</td>\n",
       "      <td>0</td>\n",
       "      <td>2</td>\n",
       "      <td>...</td>\n",
       "      <td>255</td>\n",
       "      <td>1.00</td>\n",
       "      <td>0.00</td>\n",
       "      <td>0.00</td>\n",
       "      <td>0.00</td>\n",
       "      <td>0.00</td>\n",
       "      <td>0.00</td>\n",
       "      <td>0.07</td>\n",
       "      <td>0.07</td>\n",
       "      <td>anomaly</td>\n",
       "    </tr>\n",
       "    <tr>\n",
       "      <th>148515</th>\n",
       "      <td>0</td>\n",
       "      <td>udp</td>\n",
       "      <td>domain_u</td>\n",
       "      <td>SF</td>\n",
       "      <td>42</td>\n",
       "      <td>42</td>\n",
       "      <td>0</td>\n",
       "      <td>0</td>\n",
       "      <td>0</td>\n",
       "      <td>0</td>\n",
       "      <td>...</td>\n",
       "      <td>252</td>\n",
       "      <td>0.99</td>\n",
       "      <td>0.01</td>\n",
       "      <td>0.00</td>\n",
       "      <td>0.00</td>\n",
       "      <td>0.00</td>\n",
       "      <td>0.00</td>\n",
       "      <td>0.00</td>\n",
       "      <td>0.00</td>\n",
       "      <td>normal</td>\n",
       "    </tr>\n",
       "    <tr>\n",
       "      <th>148516</th>\n",
       "      <td>0</td>\n",
       "      <td>tcp</td>\n",
       "      <td>sunrpc</td>\n",
       "      <td>REJ</td>\n",
       "      <td>0</td>\n",
       "      <td>0</td>\n",
       "      <td>0</td>\n",
       "      <td>0</td>\n",
       "      <td>0</td>\n",
       "      <td>0</td>\n",
       "      <td>...</td>\n",
       "      <td>21</td>\n",
       "      <td>0.08</td>\n",
       "      <td>0.03</td>\n",
       "      <td>0.00</td>\n",
       "      <td>0.00</td>\n",
       "      <td>0.00</td>\n",
       "      <td>0.00</td>\n",
       "      <td>0.44</td>\n",
       "      <td>1.00</td>\n",
       "      <td>anomaly</td>\n",
       "    </tr>\n",
       "  </tbody>\n",
       "</table>\n",
       "<p>148517 rows × 42 columns</p>\n",
       "</div>"
      ],
      "text/plain": [
       "        duration protocol_type   service flag  src_bytes  dst_bytes  land  \\\n",
       "0              0           tcp  ftp_data   SF        491          0     0   \n",
       "1              0           udp     other   SF        146          0     0   \n",
       "2              0           tcp   private   S0          0          0     0   \n",
       "3              0           tcp      http   SF        232       8153     0   \n",
       "4              0           tcp      http   SF        199        420     0   \n",
       "...          ...           ...       ...  ...        ...        ...   ...   \n",
       "148512         0           tcp      smtp   SF        794        333     0   \n",
       "148513         0           tcp      http   SF        317        938     0   \n",
       "148514         0           tcp      http   SF      54540       8314     0   \n",
       "148515         0           udp  domain_u   SF         42         42     0   \n",
       "148516         0           tcp    sunrpc  REJ          0          0     0   \n",
       "\n",
       "        wrong_fragment  urgent  hot  ...  dst_host_srv_count  \\\n",
       "0                    0       0    0  ...                  25   \n",
       "1                    0       0    0  ...                   1   \n",
       "2                    0       0    0  ...                  26   \n",
       "3                    0       0    0  ...                 255   \n",
       "4                    0       0    0  ...                 255   \n",
       "...                ...     ...  ...  ...                 ...   \n",
       "148512               0       0    0  ...                 141   \n",
       "148513               0       0    0  ...                 255   \n",
       "148514               0       0    2  ...                 255   \n",
       "148515               0       0    0  ...                 252   \n",
       "148516               0       0    0  ...                  21   \n",
       "\n",
       "        dst_host_same_srv_rate  dst_host_diff_srv_rate  \\\n",
       "0                         0.17                    0.03   \n",
       "1                         0.00                    0.60   \n",
       "2                         0.10                    0.05   \n",
       "3                         1.00                    0.00   \n",
       "4                         1.00                    0.00   \n",
       "...                        ...                     ...   \n",
       "148512                    0.72                    0.06   \n",
       "148513                    1.00                    0.00   \n",
       "148514                    1.00                    0.00   \n",
       "148515                    0.99                    0.01   \n",
       "148516                    0.08                    0.03   \n",
       "\n",
       "        dst_host_same_src_port_rate  dst_host_srv_diff_host_rate  \\\n",
       "0                              0.17                         0.00   \n",
       "1                              0.88                         0.00   \n",
       "2                              0.00                         0.00   \n",
       "3                              0.03                         0.04   \n",
       "4                              0.00                         0.00   \n",
       "...                             ...                          ...   \n",
       "148512                         0.01                         0.01   \n",
       "148513                         0.01                         0.01   \n",
       "148514                         0.00                         0.00   \n",
       "148515                         0.00                         0.00   \n",
       "148516                         0.00                         0.00   \n",
       "\n",
       "        dst_host_serror_rate  dst_host_srv_serror_rate  dst_host_rerror_rate  \\\n",
       "0                       0.00                      0.00                  0.05   \n",
       "1                       0.00                      0.00                  0.00   \n",
       "2                       1.00                      1.00                  0.00   \n",
       "3                       0.03                      0.01                  0.00   \n",
       "4                       0.00                      0.00                  0.00   \n",
       "...                      ...                       ...                   ...   \n",
       "148512                  0.01                      0.00                  0.00   \n",
       "148513                  0.01                      0.00                  0.00   \n",
       "148514                  0.00                      0.00                  0.07   \n",
       "148515                  0.00                      0.00                  0.00   \n",
       "148516                  0.00                      0.00                  0.44   \n",
       "\n",
       "        dst_host_srv_rerror_rate    class  \n",
       "0                           0.00   normal  \n",
       "1                           0.00   normal  \n",
       "2                           0.00  anomaly  \n",
       "3                           0.01   normal  \n",
       "4                           0.00   normal  \n",
       "...                          ...      ...  \n",
       "148512                      0.00   normal  \n",
       "148513                      0.00   normal  \n",
       "148514                      0.07  anomaly  \n",
       "148515                      0.00   normal  \n",
       "148516                      1.00  anomaly  \n",
       "\n",
       "[148517 rows x 42 columns]"
      ]
     },
     "execution_count": 4,
     "metadata": {},
     "output_type": "execute_result"
    }
   ],
   "source": [
    "df = pd.read_csv('Base2.csv')\n",
    "df1=df \n",
    "df   "
   ]
  },
  {
   "cell_type": "code",
   "execution_count": 5,
   "id": "c804d336",
   "metadata": {},
   "outputs": [
    {
     "data": {
      "text/plain": [
       "Index(['duration', 'protocol_type', 'service', 'flag', 'src_bytes',\n",
       "       'dst_bytes', 'land', 'wrong_fragment', 'urgent', 'hot',\n",
       "       'num_failed_logins', 'logged_in', 'num_compromised', 'root_shell',\n",
       "       'su_attempted', 'num_root', 'num_file_creations', 'num_shells',\n",
       "       'num_access_files', 'num_outbound_cmds', 'is_host_login',\n",
       "       'is_guest_login', 'count', 'srv_count', 'serror_rate',\n",
       "       'srv_serror_rate', 'rerror_rate', 'srv_rerror_rate', 'same_srv_rate',\n",
       "       'diff_srv_rate', 'srv_diff_host_rate', 'dst_host_count',\n",
       "       'dst_host_srv_count', 'dst_host_same_srv_rate',\n",
       "       'dst_host_diff_srv_rate', 'dst_host_same_src_port_rate',\n",
       "       'dst_host_srv_diff_host_rate', 'dst_host_serror_rate',\n",
       "       'dst_host_srv_serror_rate', 'dst_host_rerror_rate',\n",
       "       'dst_host_srv_rerror_rate', 'class'],\n",
       "      dtype='object')"
      ]
     },
     "execution_count": 5,
     "metadata": {},
     "output_type": "execute_result"
    }
   ],
   "source": [
    "#Understanding our data \n",
    "df.columns  "
   ]
  },
  {
   "cell_type": "code",
   "execution_count": 6,
   "id": "03af8123",
   "metadata": {},
   "outputs": [
    {
     "data": {
      "text/plain": [
       "0"
      ]
     },
     "execution_count": 6,
     "metadata": {},
     "output_type": "execute_result"
    }
   ],
   "source": [
    "# Good No Null Values!\n",
    "df.isnull().sum().max()  "
   ]
  },
  {
   "cell_type": "code",
   "execution_count": 7,
   "id": "cbe3e5ce",
   "metadata": {},
   "outputs": [
    {
     "data": {
      "text/plain": [
       "normal     77054\n",
       "anomaly    71463\n",
       "Name: class, dtype: int64"
      ]
     },
     "execution_count": 7,
     "metadata": {},
     "output_type": "execute_result"
    }
   ],
   "source": [
    "df[\"class\"].unique() \n",
    "df[\"class\"].value_counts()\n",
    "#Le data set est équilibré   "
   ]
  },
  {
   "cell_type": "code",
   "execution_count": 8,
   "id": "d7245f1d",
   "metadata": {},
   "outputs": [
    {
     "data": {
      "text/html": [
       "<div>\n",
       "<style scoped>\n",
       "    .dataframe tbody tr th:only-of-type {\n",
       "        vertical-align: middle;\n",
       "    }\n",
       "\n",
       "    .dataframe tbody tr th {\n",
       "        vertical-align: top;\n",
       "    }\n",
       "\n",
       "    .dataframe thead th {\n",
       "        text-align: right;\n",
       "    }\n",
       "</style>\n",
       "<table border=\"1\" class=\"dataframe\">\n",
       "  <thead>\n",
       "    <tr style=\"text-align: right;\">\n",
       "      <th></th>\n",
       "      <th>duration</th>\n",
       "      <th>protocol_type</th>\n",
       "      <th>service</th>\n",
       "      <th>flag</th>\n",
       "      <th>src_bytes</th>\n",
       "      <th>dst_bytes</th>\n",
       "      <th>land</th>\n",
       "      <th>wrong_fragment</th>\n",
       "      <th>urgent</th>\n",
       "      <th>hot</th>\n",
       "      <th>...</th>\n",
       "      <th>dst_host_srv_count</th>\n",
       "      <th>dst_host_same_srv_rate</th>\n",
       "      <th>dst_host_diff_srv_rate</th>\n",
       "      <th>dst_host_same_src_port_rate</th>\n",
       "      <th>dst_host_srv_diff_host_rate</th>\n",
       "      <th>dst_host_serror_rate</th>\n",
       "      <th>dst_host_srv_serror_rate</th>\n",
       "      <th>dst_host_rerror_rate</th>\n",
       "      <th>dst_host_srv_rerror_rate</th>\n",
       "      <th>class</th>\n",
       "    </tr>\n",
       "  </thead>\n",
       "  <tbody>\n",
       "    <tr>\n",
       "      <th>0</th>\n",
       "      <td>0</td>\n",
       "      <td>tcp</td>\n",
       "      <td>ftp_data</td>\n",
       "      <td>SF</td>\n",
       "      <td>491</td>\n",
       "      <td>0</td>\n",
       "      <td>0</td>\n",
       "      <td>0</td>\n",
       "      <td>0</td>\n",
       "      <td>0</td>\n",
       "      <td>...</td>\n",
       "      <td>25</td>\n",
       "      <td>0.17</td>\n",
       "      <td>0.03</td>\n",
       "      <td>0.17</td>\n",
       "      <td>0.00</td>\n",
       "      <td>0.00</td>\n",
       "      <td>0.00</td>\n",
       "      <td>0.05</td>\n",
       "      <td>0.00</td>\n",
       "      <td>normal</td>\n",
       "    </tr>\n",
       "    <tr>\n",
       "      <th>1</th>\n",
       "      <td>0</td>\n",
       "      <td>udp</td>\n",
       "      <td>other</td>\n",
       "      <td>SF</td>\n",
       "      <td>146</td>\n",
       "      <td>0</td>\n",
       "      <td>0</td>\n",
       "      <td>0</td>\n",
       "      <td>0</td>\n",
       "      <td>0</td>\n",
       "      <td>...</td>\n",
       "      <td>1</td>\n",
       "      <td>0.00</td>\n",
       "      <td>0.60</td>\n",
       "      <td>0.88</td>\n",
       "      <td>0.00</td>\n",
       "      <td>0.00</td>\n",
       "      <td>0.00</td>\n",
       "      <td>0.00</td>\n",
       "      <td>0.00</td>\n",
       "      <td>normal</td>\n",
       "    </tr>\n",
       "    <tr>\n",
       "      <th>2</th>\n",
       "      <td>0</td>\n",
       "      <td>tcp</td>\n",
       "      <td>private</td>\n",
       "      <td>S0</td>\n",
       "      <td>0</td>\n",
       "      <td>0</td>\n",
       "      <td>0</td>\n",
       "      <td>0</td>\n",
       "      <td>0</td>\n",
       "      <td>0</td>\n",
       "      <td>...</td>\n",
       "      <td>26</td>\n",
       "      <td>0.10</td>\n",
       "      <td>0.05</td>\n",
       "      <td>0.00</td>\n",
       "      <td>0.00</td>\n",
       "      <td>1.00</td>\n",
       "      <td>1.00</td>\n",
       "      <td>0.00</td>\n",
       "      <td>0.00</td>\n",
       "      <td>anomaly</td>\n",
       "    </tr>\n",
       "    <tr>\n",
       "      <th>3</th>\n",
       "      <td>0</td>\n",
       "      <td>tcp</td>\n",
       "      <td>http</td>\n",
       "      <td>SF</td>\n",
       "      <td>232</td>\n",
       "      <td>8153</td>\n",
       "      <td>0</td>\n",
       "      <td>0</td>\n",
       "      <td>0</td>\n",
       "      <td>0</td>\n",
       "      <td>...</td>\n",
       "      <td>255</td>\n",
       "      <td>1.00</td>\n",
       "      <td>0.00</td>\n",
       "      <td>0.03</td>\n",
       "      <td>0.04</td>\n",
       "      <td>0.03</td>\n",
       "      <td>0.01</td>\n",
       "      <td>0.00</td>\n",
       "      <td>0.01</td>\n",
       "      <td>normal</td>\n",
       "    </tr>\n",
       "    <tr>\n",
       "      <th>4</th>\n",
       "      <td>0</td>\n",
       "      <td>tcp</td>\n",
       "      <td>http</td>\n",
       "      <td>SF</td>\n",
       "      <td>199</td>\n",
       "      <td>420</td>\n",
       "      <td>0</td>\n",
       "      <td>0</td>\n",
       "      <td>0</td>\n",
       "      <td>0</td>\n",
       "      <td>...</td>\n",
       "      <td>255</td>\n",
       "      <td>1.00</td>\n",
       "      <td>0.00</td>\n",
       "      <td>0.00</td>\n",
       "      <td>0.00</td>\n",
       "      <td>0.00</td>\n",
       "      <td>0.00</td>\n",
       "      <td>0.00</td>\n",
       "      <td>0.00</td>\n",
       "      <td>normal</td>\n",
       "    </tr>\n",
       "  </tbody>\n",
       "</table>\n",
       "<p>5 rows × 42 columns</p>\n",
       "</div>"
      ],
      "text/plain": [
       "   duration protocol_type   service flag  src_bytes  dst_bytes  land  \\\n",
       "0         0           tcp  ftp_data   SF        491          0     0   \n",
       "1         0           udp     other   SF        146          0     0   \n",
       "2         0           tcp   private   S0          0          0     0   \n",
       "3         0           tcp      http   SF        232       8153     0   \n",
       "4         0           tcp      http   SF        199        420     0   \n",
       "\n",
       "   wrong_fragment  urgent  hot  ...  dst_host_srv_count  \\\n",
       "0               0       0    0  ...                  25   \n",
       "1               0       0    0  ...                   1   \n",
       "2               0       0    0  ...                  26   \n",
       "3               0       0    0  ...                 255   \n",
       "4               0       0    0  ...                 255   \n",
       "\n",
       "   dst_host_same_srv_rate  dst_host_diff_srv_rate  \\\n",
       "0                    0.17                    0.03   \n",
       "1                    0.00                    0.60   \n",
       "2                    0.10                    0.05   \n",
       "3                    1.00                    0.00   \n",
       "4                    1.00                    0.00   \n",
       "\n",
       "   dst_host_same_src_port_rate  dst_host_srv_diff_host_rate  \\\n",
       "0                         0.17                         0.00   \n",
       "1                         0.88                         0.00   \n",
       "2                         0.00                         0.00   \n",
       "3                         0.03                         0.04   \n",
       "4                         0.00                         0.00   \n",
       "\n",
       "   dst_host_serror_rate  dst_host_srv_serror_rate  dst_host_rerror_rate  \\\n",
       "0                  0.00                      0.00                  0.05   \n",
       "1                  0.00                      0.00                  0.00   \n",
       "2                  1.00                      1.00                  0.00   \n",
       "3                  0.03                      0.01                  0.00   \n",
       "4                  0.00                      0.00                  0.00   \n",
       "\n",
       "   dst_host_srv_rerror_rate    class  \n",
       "0                      0.00   normal  \n",
       "1                      0.00   normal  \n",
       "2                      0.00  anomaly  \n",
       "3                      0.01   normal  \n",
       "4                      0.00   normal  \n",
       "\n",
       "[5 rows x 42 columns]"
      ]
     },
     "execution_count": 8,
     "metadata": {},
     "output_type": "execute_result"
    }
   ],
   "source": [
    "df.head()  "
   ]
  },
  {
   "cell_type": "code",
   "execution_count": 9,
   "id": "fb740dbc",
   "metadata": {},
   "outputs": [
    {
     "name": "stdout",
     "output_type": "stream",
     "text": [
      "anormaly 48.12 % of the dataset\n",
      "normal 51.88 % of the dataset\n"
     ]
    },
    {
     "name": "stderr",
     "output_type": "stream",
     "text": [
      "C:\\ProgramData\\Anaconda3\\lib\\site-packages\\seaborn\\_decorators.py:36: FutureWarning: Pass the following variable as a keyword arg: x. From version 0.12, the only valid positional argument will be `data`, and passing other arguments without an explicit keyword will result in an error or misinterpretation.\n",
      "  warnings.warn(\n"
     ]
    },
    {
     "data": {
      "text/plain": [
       "Text(0.5, 1.0, 'Class Distributions \\n ( anormaly|| normaly)')"
      ]
     },
     "execution_count": 9,
     "metadata": {},
     "output_type": "execute_result"
    },
    {
     "data": {
      "image/png": "[encoded data removed]",
      "text/plain": [
       "<Figure size 432x288 with 1 Axes>"
      ]
     },
     "metadata": {
      "needs_background": "light"
     },
     "output_type": "display_data"
    }
   ],
   "source": [
    "print('anormaly', round(df['class'].value_counts()['anomaly']/len(df) * 100,2), '% of the dataset')\n",
    "print('normal', round(df['class'].value_counts()['normal']/len(df) * 100,2), '% of the dataset')\n",
    "#the dataset  est plus au moins equilibré \n",
    "colors = [\"#0101DF\", \"#DF0101\"]\n",
    "\n",
    "sns.countplot('class', data=df, palette=colors)\n",
    "plt.title('Class Distributions \\n ( anormaly|| normaly)', fontsize=14)  "
   ]
  },
  {
   "cell_type": "code",
   "execution_count": 10,
   "id": "63af219e",
   "metadata": {},
   "outputs": [],
   "source": [
    "#Encodage\n",
    "le = preprocessing.LabelEncoder()\n",
    "le.fit(['normal','anomaly'])\n",
    "df['class']=le.fit_transform(df['class'])"
   ]
  },
  {
   "cell_type": "code",
   "execution_count": 11,
   "id": "42f0408e",
   "metadata": {},
   "outputs": [
    {
     "data": {
      "text/plain": [
       "array(['tcp', 'udp', 'icmp'], dtype=object)"
      ]
     },
     "execution_count": 11,
     "metadata": {},
     "output_type": "execute_result"
    }
   ],
   "source": [
    "df[\"protocol_type\"].unique()  "
   ]
  },
  {
   "cell_type": "code",
   "execution_count": 12,
   "id": "e363f4a2",
   "metadata": {},
   "outputs": [
    {
     "data": {
      "text/plain": [
       "array(['SF', 'S0', 'REJ', 'RSTR', 'SH', 'RSTO', 'S1', 'RSTOS0', 'S3',\n",
       "       'S2', 'OTH'], dtype=object)"
      ]
     },
     "execution_count": 12,
     "metadata": {},
     "output_type": "execute_result"
    }
   ],
   "source": [
    "df[\"flag\"].unique() "
   ]
  },
  {
   "cell_type": "code",
   "execution_count": 13,
   "id": "e2222870",
   "metadata": {},
   "outputs": [
    {
     "data": {
      "text/plain": [
       "array(['ftp_data', 'other', 'private', 'http', 'remote_job', 'name',\n",
       "       'netbios_ns', 'eco_i', 'mtp', 'telnet', 'finger', 'domain_u',\n",
       "       'supdup', 'uucp_path', 'Z39_50', 'smtp', 'csnet_ns', 'uucp',\n",
       "       'netbios_dgm', 'urp_i', 'auth', 'domain', 'ftp', 'bgp', 'ldap',\n",
       "       'ecr_i', 'gopher', 'vmnet', 'systat', 'http_443', 'efs', 'whois',\n",
       "       'imap4', 'iso_tsap', 'echo', 'klogin', 'link', 'sunrpc', 'login',\n",
       "       'kshell', 'sql_net', 'time', 'hostnames', 'exec', 'ntp_u',\n",
       "       'discard', 'nntp', 'courier', 'ctf', 'ssh', 'daytime', 'shell',\n",
       "       'netstat', 'pop_3', 'nnsp', 'IRC', 'pop_2', 'printer', 'tim_i',\n",
       "       'pm_dump', 'red_i', 'netbios_ssn', 'rje', 'X11', 'urh_i',\n",
       "       'http_8001', 'aol', 'http_2784', 'tftp_u', 'harvest'], dtype=object)"
      ]
     },
     "execution_count": 13,
     "metadata": {},
     "output_type": "execute_result"
    }
   ],
   "source": [
    "df[\"service\"].unique() "
   ]
  },
  {
   "cell_type": "code",
   "execution_count": 14,
   "id": "c922f1d8",
   "metadata": {},
   "outputs": [],
   "source": [
    "#Encodage\n",
    "le = preprocessing.LabelEncoder()\n",
    "df['class']=le.fit_transform(df['class']) "
   ]
  },
  {
   "cell_type": "code",
   "execution_count": 15,
   "id": "68afee0a",
   "metadata": {},
   "outputs": [
    {
     "data": {
      "text/plain": [
       "array([[0., 1., 0., ..., 0., 1., 0.],\n",
       "       [0., 0., 1., ..., 0., 1., 0.],\n",
       "       [0., 1., 0., ..., 0., 0., 0.],\n",
       "       ...,\n",
       "       [0., 1., 0., ..., 0., 1., 0.],\n",
       "       [0., 0., 1., ..., 0., 1., 0.],\n",
       "       [0., 1., 0., ..., 0., 0., 0.]])"
      ]
     },
     "execution_count": 15,
     "metadata": {},
     "output_type": "execute_result"
    }
   ],
   "source": [
    "# OneHotEncoding encoding of protocol_type , service and flag columns \n",
    "from sklearn.preprocessing import OneHotEncoder \n",
    "ohe=OneHotEncoder() \n",
    "ohe.fit_transform(df[['protocol_type','service','flag']]).toarray() "
   ]
  },
  {
   "cell_type": "code",
   "execution_count": 16,
   "id": "7756e0f3",
   "metadata": {},
   "outputs": [],
   "source": [
    "#Encodage des  variable catégoriques protocol_type , service et flag \n",
    "feature_arr=ohe.fit_transform(df[['protocol_type','service','flag']]).toarray() \n",
    "ohe.categories_\n",
    "feature_labels= ohe.categories_ \n",
    "feature_labels=['icmp', 'tcp', 'udp','IRC', 'X11', 'Z39_50', 'aol', 'auth', 'bgp', 'courier',\n",
    "        'csnet_ns', 'ctf', 'daytime', 'discard', 'domain', 'domain_u',\n",
    "        'echo', 'eco_i', 'ecr_i', 'efs', 'exec', 'finger', 'ftp',\n",
    "        'ftp_data', 'gopher', 'harvest', 'hostnames', 'http', 'http_2784',\n",
    "        'http_443', 'http_8001', 'imap4', 'iso_tsap', 'klogin', 'kshell',\n",
    "        'ldap', 'link', 'login', 'mtp', 'name', 'netbios_dgm',\n",
    "        'netbios_ns', 'netbios_ssn', 'netstat', 'nnsp', 'nntp', 'ntp_u',\n",
    "        'other', 'pm_dump', 'pop_2', 'pop_3', 'printer', 'private',\n",
    "        'red_i', 'remote_job', 'rje', 'shell', 'smtp', 'sql_net', 'ssh',\n",
    "        'sunrpc', 'supdup', 'systat', 'telnet', 'tftp_u', 'tim_i', 'time',\n",
    "        'urh_i', 'urp_i', 'uucp', 'uucp_path', 'vmnet', 'whois','OTH', 'REJ', 'RSTO', 'RSTOS0', 'RSTR', 'S0', 'S1', 'S2', 'S3',\n",
    "        'SF', 'SH']\n",
    "\n",
    "\n"
   ]
  },
  {
   "cell_type": "code",
   "execution_count": 17,
   "id": "4cf41ba4",
   "metadata": {},
   "outputs": [
    {
     "data": {
      "text/html": [
       "<div>\n",
       "<style scoped>\n",
       "    .dataframe tbody tr th:only-of-type {\n",
       "        vertical-align: middle;\n",
       "    }\n",
       "\n",
       "    .dataframe tbody tr th {\n",
       "        vertical-align: top;\n",
       "    }\n",
       "\n",
       "    .dataframe thead th {\n",
       "        text-align: right;\n",
       "    }\n",
       "</style>\n",
       "<table border=\"1\" class=\"dataframe\">\n",
       "  <thead>\n",
       "    <tr style=\"text-align: right;\">\n",
       "      <th></th>\n",
       "      <th>duration</th>\n",
       "      <th>protocol_type</th>\n",
       "      <th>service</th>\n",
       "      <th>flag</th>\n",
       "      <th>src_bytes</th>\n",
       "      <th>dst_bytes</th>\n",
       "      <th>land</th>\n",
       "      <th>wrong_fragment</th>\n",
       "      <th>urgent</th>\n",
       "      <th>hot</th>\n",
       "      <th>...</th>\n",
       "      <th>REJ</th>\n",
       "      <th>RSTO</th>\n",
       "      <th>RSTOS0</th>\n",
       "      <th>RSTR</th>\n",
       "      <th>S0</th>\n",
       "      <th>S1</th>\n",
       "      <th>S2</th>\n",
       "      <th>S3</th>\n",
       "      <th>SF</th>\n",
       "      <th>SH</th>\n",
       "    </tr>\n",
       "  </thead>\n",
       "  <tbody>\n",
       "    <tr>\n",
       "      <th>0</th>\n",
       "      <td>0</td>\n",
       "      <td>tcp</td>\n",
       "      <td>ftp_data</td>\n",
       "      <td>SF</td>\n",
       "      <td>491</td>\n",
       "      <td>0</td>\n",
       "      <td>0</td>\n",
       "      <td>0</td>\n",
       "      <td>0</td>\n",
       "      <td>0</td>\n",
       "      <td>...</td>\n",
       "      <td>0.0</td>\n",
       "      <td>0.0</td>\n",
       "      <td>0.0</td>\n",
       "      <td>0.0</td>\n",
       "      <td>0.0</td>\n",
       "      <td>0.0</td>\n",
       "      <td>0.0</td>\n",
       "      <td>0.0</td>\n",
       "      <td>1.0</td>\n",
       "      <td>0.0</td>\n",
       "    </tr>\n",
       "    <tr>\n",
       "      <th>1</th>\n",
       "      <td>0</td>\n",
       "      <td>udp</td>\n",
       "      <td>other</td>\n",
       "      <td>SF</td>\n",
       "      <td>146</td>\n",
       "      <td>0</td>\n",
       "      <td>0</td>\n",
       "      <td>0</td>\n",
       "      <td>0</td>\n",
       "      <td>0</td>\n",
       "      <td>...</td>\n",
       "      <td>0.0</td>\n",
       "      <td>0.0</td>\n",
       "      <td>0.0</td>\n",
       "      <td>0.0</td>\n",
       "      <td>0.0</td>\n",
       "      <td>0.0</td>\n",
       "      <td>0.0</td>\n",
       "      <td>0.0</td>\n",
       "      <td>1.0</td>\n",
       "      <td>0.0</td>\n",
       "    </tr>\n",
       "    <tr>\n",
       "      <th>2</th>\n",
       "      <td>0</td>\n",
       "      <td>tcp</td>\n",
       "      <td>private</td>\n",
       "      <td>S0</td>\n",
       "      <td>0</td>\n",
       "      <td>0</td>\n",
       "      <td>0</td>\n",
       "      <td>0</td>\n",
       "      <td>0</td>\n",
       "      <td>0</td>\n",
       "      <td>...</td>\n",
       "      <td>0.0</td>\n",
       "      <td>0.0</td>\n",
       "      <td>0.0</td>\n",
       "      <td>0.0</td>\n",
       "      <td>1.0</td>\n",
       "      <td>0.0</td>\n",
       "      <td>0.0</td>\n",
       "      <td>0.0</td>\n",
       "      <td>0.0</td>\n",
       "      <td>0.0</td>\n",
       "    </tr>\n",
       "    <tr>\n",
       "      <th>3</th>\n",
       "      <td>0</td>\n",
       "      <td>tcp</td>\n",
       "      <td>http</td>\n",
       "      <td>SF</td>\n",
       "      <td>232</td>\n",
       "      <td>8153</td>\n",
       "      <td>0</td>\n",
       "      <td>0</td>\n",
       "      <td>0</td>\n",
       "      <td>0</td>\n",
       "      <td>...</td>\n",
       "      <td>0.0</td>\n",
       "      <td>0.0</td>\n",
       "      <td>0.0</td>\n",
       "      <td>0.0</td>\n",
       "      <td>0.0</td>\n",
       "      <td>0.0</td>\n",
       "      <td>0.0</td>\n",
       "      <td>0.0</td>\n",
       "      <td>1.0</td>\n",
       "      <td>0.0</td>\n",
       "    </tr>\n",
       "    <tr>\n",
       "      <th>4</th>\n",
       "      <td>0</td>\n",
       "      <td>tcp</td>\n",
       "      <td>http</td>\n",
       "      <td>SF</td>\n",
       "      <td>199</td>\n",
       "      <td>420</td>\n",
       "      <td>0</td>\n",
       "      <td>0</td>\n",
       "      <td>0</td>\n",
       "      <td>0</td>\n",
       "      <td>...</td>\n",
       "      <td>0.0</td>\n",
       "      <td>0.0</td>\n",
       "      <td>0.0</td>\n",
       "      <td>0.0</td>\n",
       "      <td>0.0</td>\n",
       "      <td>0.0</td>\n",
       "      <td>0.0</td>\n",
       "      <td>0.0</td>\n",
       "      <td>1.0</td>\n",
       "      <td>0.0</td>\n",
       "    </tr>\n",
       "    <tr>\n",
       "      <th>...</th>\n",
       "      <td>...</td>\n",
       "      <td>...</td>\n",
       "      <td>...</td>\n",
       "      <td>...</td>\n",
       "      <td>...</td>\n",
       "      <td>...</td>\n",
       "      <td>...</td>\n",
       "      <td>...</td>\n",
       "      <td>...</td>\n",
       "      <td>...</td>\n",
       "      <td>...</td>\n",
       "      <td>...</td>\n",
       "      <td>...</td>\n",
       "      <td>...</td>\n",
       "      <td>...</td>\n",
       "      <td>...</td>\n",
       "      <td>...</td>\n",
       "      <td>...</td>\n",
       "      <td>...</td>\n",
       "      <td>...</td>\n",
       "      <td>...</td>\n",
       "    </tr>\n",
       "    <tr>\n",
       "      <th>148512</th>\n",
       "      <td>0</td>\n",
       "      <td>tcp</td>\n",
       "      <td>smtp</td>\n",
       "      <td>SF</td>\n",
       "      <td>794</td>\n",
       "      <td>333</td>\n",
       "      <td>0</td>\n",
       "      <td>0</td>\n",
       "      <td>0</td>\n",
       "      <td>0</td>\n",
       "      <td>...</td>\n",
       "      <td>0.0</td>\n",
       "      <td>0.0</td>\n",
       "      <td>0.0</td>\n",
       "      <td>0.0</td>\n",
       "      <td>0.0</td>\n",
       "      <td>0.0</td>\n",
       "      <td>0.0</td>\n",
       "      <td>0.0</td>\n",
       "      <td>1.0</td>\n",
       "      <td>0.0</td>\n",
       "    </tr>\n",
       "    <tr>\n",
       "      <th>148513</th>\n",
       "      <td>0</td>\n",
       "      <td>tcp</td>\n",
       "      <td>http</td>\n",
       "      <td>SF</td>\n",
       "      <td>317</td>\n",
       "      <td>938</td>\n",
       "      <td>0</td>\n",
       "      <td>0</td>\n",
       "      <td>0</td>\n",
       "      <td>0</td>\n",
       "      <td>...</td>\n",
       "      <td>0.0</td>\n",
       "      <td>0.0</td>\n",
       "      <td>0.0</td>\n",
       "      <td>0.0</td>\n",
       "      <td>0.0</td>\n",
       "      <td>0.0</td>\n",
       "      <td>0.0</td>\n",
       "      <td>0.0</td>\n",
       "      <td>1.0</td>\n",
       "      <td>0.0</td>\n",
       "    </tr>\n",
       "    <tr>\n",
       "      <th>148514</th>\n",
       "      <td>0</td>\n",
       "      <td>tcp</td>\n",
       "      <td>http</td>\n",
       "      <td>SF</td>\n",
       "      <td>54540</td>\n",
       "      <td>8314</td>\n",
       "      <td>0</td>\n",
       "      <td>0</td>\n",
       "      <td>0</td>\n",
       "      <td>2</td>\n",
       "      <td>...</td>\n",
       "      <td>0.0</td>\n",
       "      <td>0.0</td>\n",
       "      <td>0.0</td>\n",
       "      <td>0.0</td>\n",
       "      <td>0.0</td>\n",
       "      <td>0.0</td>\n",
       "      <td>0.0</td>\n",
       "      <td>0.0</td>\n",
       "      <td>1.0</td>\n",
       "      <td>0.0</td>\n",
       "    </tr>\n",
       "    <tr>\n",
       "      <th>148515</th>\n",
       "      <td>0</td>\n",
       "      <td>udp</td>\n",
       "      <td>domain_u</td>\n",
       "      <td>SF</td>\n",
       "      <td>42</td>\n",
       "      <td>42</td>\n",
       "      <td>0</td>\n",
       "      <td>0</td>\n",
       "      <td>0</td>\n",
       "      <td>0</td>\n",
       "      <td>...</td>\n",
       "      <td>0.0</td>\n",
       "      <td>0.0</td>\n",
       "      <td>0.0</td>\n",
       "      <td>0.0</td>\n",
       "      <td>0.0</td>\n",
       "      <td>0.0</td>\n",
       "      <td>0.0</td>\n",
       "      <td>0.0</td>\n",
       "      <td>1.0</td>\n",
       "      <td>0.0</td>\n",
       "    </tr>\n",
       "    <tr>\n",
       "      <th>148516</th>\n",
       "      <td>0</td>\n",
       "      <td>tcp</td>\n",
       "      <td>sunrpc</td>\n",
       "      <td>REJ</td>\n",
       "      <td>0</td>\n",
       "      <td>0</td>\n",
       "      <td>0</td>\n",
       "      <td>0</td>\n",
       "      <td>0</td>\n",
       "      <td>0</td>\n",
       "      <td>...</td>\n",
       "      <td>1.0</td>\n",
       "      <td>0.0</td>\n",
       "      <td>0.0</td>\n",
       "      <td>0.0</td>\n",
       "      <td>0.0</td>\n",
       "      <td>0.0</td>\n",
       "      <td>0.0</td>\n",
       "      <td>0.0</td>\n",
       "      <td>0.0</td>\n",
       "      <td>0.0</td>\n",
       "    </tr>\n",
       "  </tbody>\n",
       "</table>\n",
       "<p>148517 rows × 126 columns</p>\n",
       "</div>"
      ],
      "text/plain": [
       "        duration protocol_type   service flag  src_bytes  dst_bytes  land  \\\n",
       "0              0           tcp  ftp_data   SF        491          0     0   \n",
       "1              0           udp     other   SF        146          0     0   \n",
       "2              0           tcp   private   S0          0          0     0   \n",
       "3              0           tcp      http   SF        232       8153     0   \n",
       "4              0           tcp      http   SF        199        420     0   \n",
       "...          ...           ...       ...  ...        ...        ...   ...   \n",
       "148512         0           tcp      smtp   SF        794        333     0   \n",
       "148513         0           tcp      http   SF        317        938     0   \n",
       "148514         0           tcp      http   SF      54540       8314     0   \n",
       "148515         0           udp  domain_u   SF         42         42     0   \n",
       "148516         0           tcp    sunrpc  REJ          0          0     0   \n",
       "\n",
       "        wrong_fragment  urgent  hot  ...  REJ  RSTO  RSTOS0  RSTR   S0   S1  \\\n",
       "0                    0       0    0  ...  0.0   0.0     0.0   0.0  0.0  0.0   \n",
       "1                    0       0    0  ...  0.0   0.0     0.0   0.0  0.0  0.0   \n",
       "2                    0       0    0  ...  0.0   0.0     0.0   0.0  1.0  0.0   \n",
       "3                    0       0    0  ...  0.0   0.0     0.0   0.0  0.0  0.0   \n",
       "4                    0       0    0  ...  0.0   0.0     0.0   0.0  0.0  0.0   \n",
       "...                ...     ...  ...  ...  ...   ...     ...   ...  ...  ...   \n",
       "148512               0       0    0  ...  0.0   0.0     0.0   0.0  0.0  0.0   \n",
       "148513               0       0    0  ...  0.0   0.0     0.0   0.0  0.0  0.0   \n",
       "148514               0       0    2  ...  0.0   0.0     0.0   0.0  0.0  0.0   \n",
       "148515               0       0    0  ...  0.0   0.0     0.0   0.0  0.0  0.0   \n",
       "148516               0       0    0  ...  1.0   0.0     0.0   0.0  0.0  0.0   \n",
       "\n",
       "         S2   S3   SF   SH  \n",
       "0       0.0  0.0  1.0  0.0  \n",
       "1       0.0  0.0  1.0  0.0  \n",
       "2       0.0  0.0  0.0  0.0  \n",
       "3       0.0  0.0  1.0  0.0  \n",
       "4       0.0  0.0  1.0  0.0  \n",
       "...     ...  ...  ...  ...  \n",
       "148512  0.0  0.0  1.0  0.0  \n",
       "148513  0.0  0.0  1.0  0.0  \n",
       "148514  0.0  0.0  1.0  0.0  \n",
       "148515  0.0  0.0  1.0  0.0  \n",
       "148516  0.0  0.0  0.0  0.0  \n",
       "\n",
       "[148517 rows x 126 columns]"
      ]
     },
     "execution_count": 17,
     "metadata": {},
     "output_type": "execute_result"
    }
   ],
   "source": [
    "features=pd.DataFrame(feature_arr,columns=feature_labels)\n",
    "df=pd.concat([df,features],axis=1)\n",
    "df\n",
    " "
   ]
  },
  {
   "cell_type": "code",
   "execution_count": 18,
   "id": "b7c77336",
   "metadata": {},
   "outputs": [],
   "source": [
    "\n",
    "df.drop(['protocol_type','service','flag'], axis=1, inplace=True) "
   ]
  },
  {
   "cell_type": "code",
   "execution_count": 19,
   "id": "8bf2f910",
   "metadata": {},
   "outputs": [
    {
     "data": {
      "text/html": [
       "<div>\n",
       "<style scoped>\n",
       "    .dataframe tbody tr th:only-of-type {\n",
       "        vertical-align: middle;\n",
       "    }\n",
       "\n",
       "    .dataframe tbody tr th {\n",
       "        vertical-align: top;\n",
       "    }\n",
       "\n",
       "    .dataframe thead th {\n",
       "        text-align: right;\n",
       "    }\n",
       "</style>\n",
       "<table border=\"1\" class=\"dataframe\">\n",
       "  <thead>\n",
       "    <tr style=\"text-align: right;\">\n",
       "      <th></th>\n",
       "      <th>duration</th>\n",
       "      <th>src_bytes</th>\n",
       "      <th>dst_bytes</th>\n",
       "      <th>land</th>\n",
       "      <th>wrong_fragment</th>\n",
       "      <th>urgent</th>\n",
       "      <th>hot</th>\n",
       "      <th>num_failed_logins</th>\n",
       "      <th>logged_in</th>\n",
       "      <th>num_compromised</th>\n",
       "      <th>...</th>\n",
       "      <th>REJ</th>\n",
       "      <th>RSTO</th>\n",
       "      <th>RSTOS0</th>\n",
       "      <th>RSTR</th>\n",
       "      <th>S0</th>\n",
       "      <th>S1</th>\n",
       "      <th>S2</th>\n",
       "      <th>S3</th>\n",
       "      <th>SF</th>\n",
       "      <th>SH</th>\n",
       "    </tr>\n",
       "  </thead>\n",
       "  <tbody>\n",
       "    <tr>\n",
       "      <th>count</th>\n",
       "      <td>148517.000000</td>\n",
       "      <td>1.485170e+05</td>\n",
       "      <td>1.485170e+05</td>\n",
       "      <td>148517.000000</td>\n",
       "      <td>148517.000000</td>\n",
       "      <td>148517.000000</td>\n",
       "      <td>148517.000000</td>\n",
       "      <td>148517.000000</td>\n",
       "      <td>148517.000000</td>\n",
       "      <td>148517.000000</td>\n",
       "      <td>...</td>\n",
       "      <td>148517.000000</td>\n",
       "      <td>148517.000000</td>\n",
       "      <td>148517.000000</td>\n",
       "      <td>148517.000000</td>\n",
       "      <td>148517.000000</td>\n",
       "      <td>148517.000000</td>\n",
       "      <td>148517.000000</td>\n",
       "      <td>148517.000000</td>\n",
       "      <td>148517.000000</td>\n",
       "      <td>148517.000000</td>\n",
       "    </tr>\n",
       "    <tr>\n",
       "      <th>mean</th>\n",
       "      <td>276.779305</td>\n",
       "      <td>4.022795e+04</td>\n",
       "      <td>1.708885e+04</td>\n",
       "      <td>0.000215</td>\n",
       "      <td>0.020523</td>\n",
       "      <td>0.000202</td>\n",
       "      <td>0.189379</td>\n",
       "      <td>0.004323</td>\n",
       "      <td>0.402789</td>\n",
       "      <td>0.255062</td>\n",
       "      <td>...</td>\n",
       "      <td>0.101557</td>\n",
       "      <td>0.015722</td>\n",
       "      <td>0.000707</td>\n",
       "      <td>0.020806</td>\n",
       "      <td>0.248214</td>\n",
       "      <td>0.002599</td>\n",
       "      <td>0.000956</td>\n",
       "      <td>0.002007</td>\n",
       "      <td>0.604779</td>\n",
       "      <td>0.002316</td>\n",
       "    </tr>\n",
       "    <tr>\n",
       "      <th>std</th>\n",
       "      <td>2460.683131</td>\n",
       "      <td>5.409612e+06</td>\n",
       "      <td>3.703525e+06</td>\n",
       "      <td>0.014677</td>\n",
       "      <td>0.240069</td>\n",
       "      <td>0.019417</td>\n",
       "      <td>2.013160</td>\n",
       "      <td>0.072248</td>\n",
       "      <td>0.490461</td>\n",
       "      <td>22.231375</td>\n",
       "      <td>...</td>\n",
       "      <td>0.302066</td>\n",
       "      <td>0.124399</td>\n",
       "      <td>0.026580</td>\n",
       "      <td>0.142734</td>\n",
       "      <td>0.431978</td>\n",
       "      <td>0.050915</td>\n",
       "      <td>0.030907</td>\n",
       "      <td>0.044749</td>\n",
       "      <td>0.488900</td>\n",
       "      <td>0.048072</td>\n",
       "    </tr>\n",
       "    <tr>\n",
       "      <th>min</th>\n",
       "      <td>0.000000</td>\n",
       "      <td>0.000000e+00</td>\n",
       "      <td>0.000000e+00</td>\n",
       "      <td>0.000000</td>\n",
       "      <td>0.000000</td>\n",
       "      <td>0.000000</td>\n",
       "      <td>0.000000</td>\n",
       "      <td>0.000000</td>\n",
       "      <td>0.000000</td>\n",
       "      <td>0.000000</td>\n",
       "      <td>...</td>\n",
       "      <td>0.000000</td>\n",
       "      <td>0.000000</td>\n",
       "      <td>0.000000</td>\n",
       "      <td>0.000000</td>\n",
       "      <td>0.000000</td>\n",
       "      <td>0.000000</td>\n",
       "      <td>0.000000</td>\n",
       "      <td>0.000000</td>\n",
       "      <td>0.000000</td>\n",
       "      <td>0.000000</td>\n",
       "    </tr>\n",
       "    <tr>\n",
       "      <th>25%</th>\n",
       "      <td>0.000000</td>\n",
       "      <td>0.000000e+00</td>\n",
       "      <td>0.000000e+00</td>\n",
       "      <td>0.000000</td>\n",
       "      <td>0.000000</td>\n",
       "      <td>0.000000</td>\n",
       "      <td>0.000000</td>\n",
       "      <td>0.000000</td>\n",
       "      <td>0.000000</td>\n",
       "      <td>0.000000</td>\n",
       "      <td>...</td>\n",
       "      <td>0.000000</td>\n",
       "      <td>0.000000</td>\n",
       "      <td>0.000000</td>\n",
       "      <td>0.000000</td>\n",
       "      <td>0.000000</td>\n",
       "      <td>0.000000</td>\n",
       "      <td>0.000000</td>\n",
       "      <td>0.000000</td>\n",
       "      <td>0.000000</td>\n",
       "      <td>0.000000</td>\n",
       "    </tr>\n",
       "    <tr>\n",
       "      <th>50%</th>\n",
       "      <td>0.000000</td>\n",
       "      <td>4.400000e+01</td>\n",
       "      <td>0.000000e+00</td>\n",
       "      <td>0.000000</td>\n",
       "      <td>0.000000</td>\n",
       "      <td>0.000000</td>\n",
       "      <td>0.000000</td>\n",
       "      <td>0.000000</td>\n",
       "      <td>0.000000</td>\n",
       "      <td>0.000000</td>\n",
       "      <td>...</td>\n",
       "      <td>0.000000</td>\n",
       "      <td>0.000000</td>\n",
       "      <td>0.000000</td>\n",
       "      <td>0.000000</td>\n",
       "      <td>0.000000</td>\n",
       "      <td>0.000000</td>\n",
       "      <td>0.000000</td>\n",
       "      <td>0.000000</td>\n",
       "      <td>1.000000</td>\n",
       "      <td>0.000000</td>\n",
       "    </tr>\n",
       "    <tr>\n",
       "      <th>75%</th>\n",
       "      <td>0.000000</td>\n",
       "      <td>2.780000e+02</td>\n",
       "      <td>5.710000e+02</td>\n",
       "      <td>0.000000</td>\n",
       "      <td>0.000000</td>\n",
       "      <td>0.000000</td>\n",
       "      <td>0.000000</td>\n",
       "      <td>0.000000</td>\n",
       "      <td>1.000000</td>\n",
       "      <td>0.000000</td>\n",
       "      <td>...</td>\n",
       "      <td>0.000000</td>\n",
       "      <td>0.000000</td>\n",
       "      <td>0.000000</td>\n",
       "      <td>0.000000</td>\n",
       "      <td>0.000000</td>\n",
       "      <td>0.000000</td>\n",
       "      <td>0.000000</td>\n",
       "      <td>0.000000</td>\n",
       "      <td>1.000000</td>\n",
       "      <td>0.000000</td>\n",
       "    </tr>\n",
       "    <tr>\n",
       "      <th>max</th>\n",
       "      <td>57715.000000</td>\n",
       "      <td>1.379964e+09</td>\n",
       "      <td>1.309937e+09</td>\n",
       "      <td>1.000000</td>\n",
       "      <td>3.000000</td>\n",
       "      <td>3.000000</td>\n",
       "      <td>101.000000</td>\n",
       "      <td>5.000000</td>\n",
       "      <td>1.000000</td>\n",
       "      <td>7479.000000</td>\n",
       "      <td>...</td>\n",
       "      <td>1.000000</td>\n",
       "      <td>1.000000</td>\n",
       "      <td>1.000000</td>\n",
       "      <td>1.000000</td>\n",
       "      <td>1.000000</td>\n",
       "      <td>1.000000</td>\n",
       "      <td>1.000000</td>\n",
       "      <td>1.000000</td>\n",
       "      <td>1.000000</td>\n",
       "      <td>1.000000</td>\n",
       "    </tr>\n",
       "  </tbody>\n",
       "</table>\n",
       "<p>8 rows × 123 columns</p>\n",
       "</div>"
      ],
      "text/plain": [
       "            duration     src_bytes     dst_bytes           land  \\\n",
       "count  148517.000000  1.485170e+05  1.485170e+05  148517.000000   \n",
       "mean      276.779305  4.022795e+04  1.708885e+04       0.000215   \n",
       "std      2460.683131  5.409612e+06  3.703525e+06       0.014677   \n",
       "min         0.000000  0.000000e+00  0.000000e+00       0.000000   \n",
       "25%         0.000000  0.000000e+00  0.000000e+00       0.000000   \n",
       "50%         0.000000  4.400000e+01  0.000000e+00       0.000000   \n",
       "75%         0.000000  2.780000e+02  5.710000e+02       0.000000   \n",
       "max     57715.000000  1.379964e+09  1.309937e+09       1.000000   \n",
       "\n",
       "       wrong_fragment         urgent            hot  num_failed_logins  \\\n",
       "count   148517.000000  148517.000000  148517.000000      148517.000000   \n",
       "mean         0.020523       0.000202       0.189379           0.004323   \n",
       "std          0.240069       0.019417       2.013160           0.072248   \n",
       "min          0.000000       0.000000       0.000000           0.000000   \n",
       "25%          0.000000       0.000000       0.000000           0.000000   \n",
       "50%          0.000000       0.000000       0.000000           0.000000   \n",
       "75%          0.000000       0.000000       0.000000           0.000000   \n",
       "max          3.000000       3.000000     101.000000           5.000000   \n",
       "\n",
       "           logged_in  num_compromised  ...            REJ           RSTO  \\\n",
       "count  148517.000000    148517.000000  ...  148517.000000  148517.000000   \n",
       "mean        0.402789         0.255062  ...       0.101557       0.015722   \n",
       "std         0.490461        22.231375  ...       0.302066       0.124399   \n",
       "min         0.000000         0.000000  ...       0.000000       0.000000   \n",
       "25%         0.000000         0.000000  ...       0.000000       0.000000   \n",
       "50%         0.000000         0.000000  ...       0.000000       0.000000   \n",
       "75%         1.000000         0.000000  ...       0.000000       0.000000   \n",
       "max         1.000000      7479.000000  ...       1.000000       1.000000   \n",
       "\n",
       "              RSTOS0           RSTR             S0             S1  \\\n",
       "count  148517.000000  148517.000000  148517.000000  148517.000000   \n",
       "mean        0.000707       0.020806       0.248214       0.002599   \n",
       "std         0.026580       0.142734       0.431978       0.050915   \n",
       "min         0.000000       0.000000       0.000000       0.000000   \n",
       "25%         0.000000       0.000000       0.000000       0.000000   \n",
       "50%         0.000000       0.000000       0.000000       0.000000   \n",
       "75%         0.000000       0.000000       0.000000       0.000000   \n",
       "max         1.000000       1.000000       1.000000       1.000000   \n",
       "\n",
       "                  S2             S3             SF             SH  \n",
       "count  148517.000000  148517.000000  148517.000000  148517.000000  \n",
       "mean        0.000956       0.002007       0.604779       0.002316  \n",
       "std         0.030907       0.044749       0.488900       0.048072  \n",
       "min         0.000000       0.000000       0.000000       0.000000  \n",
       "25%         0.000000       0.000000       0.000000       0.000000  \n",
       "50%         0.000000       0.000000       1.000000       0.000000  \n",
       "75%         0.000000       0.000000       1.000000       0.000000  \n",
       "max         1.000000       1.000000       1.000000       1.000000  \n",
       "\n",
       "[8 rows x 123 columns]"
      ]
     },
     "execution_count": 19,
     "metadata": {},
     "output_type": "execute_result"
    }
   ],
   "source": [
    "df.describe()"
   ]
  },
  {
   "cell_type": "code",
   "execution_count": 20,
   "id": "f4026f5b",
   "metadata": {},
   "outputs": [],
   "source": [
    "Col=df.columns.tolist() "
   ]
  },
  {
   "cell_type": "markdown",
   "id": "07a903cc",
   "metadata": {},
   "source": [
    "# Before Feature selection "
   ]
  },
  {
   "cell_type": "code",
   "execution_count": 21,
   "id": "17e3934b",
   "metadata": {},
   "outputs": [],
   "source": [
    "X = df.drop('class', axis=1) \n",
    "y = df['class']\n",
    "X_train, X_test, y_train, y_test = train_test_split(X, y, random_state=42)  "
   ]
  },
  {
   "cell_type": "code",
   "execution_count": 22,
   "id": "e2fd9524",
   "metadata": {},
   "outputs": [
    {
     "name": "stdout",
     "output_type": "stream",
     "text": [
      "Temps d'exécution : 3.7ms 0.9581470509022354\n"
     ]
    },
    {
     "name": "stderr",
     "output_type": "stream",
     "text": [
      "C:\\ProgramData\\Anaconda3\\lib\\site-packages\\sklearn\\linear_model\\_logistic.py:814: ConvergenceWarning: lbfgs failed to converge (status=1):\n",
      "STOP: TOTAL NO. of ITERATIONS REACHED LIMIT.\n",
      "\n",
      "Increase the number of iterations (max_iter) or scale the data as shown in:\n",
      "    https://scikit-learn.org/stable/modules/preprocessing.html\n",
      "Please also refer to the documentation for alternative solver options:\n",
      "    https://scikit-learn.org/stable/modules/linear_model.html#logistic-regression\n",
      "  n_iter_i = _check_optimize_result(\n"
     ]
    }
   ],
   "source": [
    "start = time.time()\n",
    "pipe_log = make_pipeline(StandardScaler(),LogisticRegression())\n",
    "pipe_log.fit(X_train, y_train)  # apply scaling on training data\n",
    "pipe_log.score(X_test, y_test)  # apply scaling on testing data.'' \n",
    "end = time.time()\n",
    "elapsed = end - start\n",
    "print(f'Temps d\\'exécution : {elapsed:.2}ms',pipe_log.score(X_test, y_test) ) "
   ]
  },
  {
   "cell_type": "code",
   "execution_count": 23,
   "id": "664ff445",
   "metadata": {},
   "outputs": [
    {
     "name": "stdout",
     "output_type": "stream",
     "text": [
      "Temps d'exécution : 1.2e+02ms 0.9921896040937247\n"
     ]
    }
   ],
   "source": [
    "start = time.time()\n",
    "pipe_kn = make_pipeline(StandardScaler(), KNeighborsClassifier())\n",
    "pipe_kn.fit(X_train,y_train)  # apply scaling on training data\n",
    "pipe_kn.score(X_test, y_test) \n",
    "end = time.time()\n",
    "elapsed = end - start\n",
    "\n",
    "print(f'Temps d\\'exécution : {elapsed:.2}ms',pipe_kn.score(X_test, y_test) ) "
   ]
  },
  {
   "cell_type": "code",
   "execution_count": 24,
   "id": "4473260e",
   "metadata": {},
   "outputs": [
    {
     "name": "stdout",
     "output_type": "stream",
     "text": [
      "Temps d'exécution : 2.7ms 0.9943441960678696\n"
     ]
    }
   ],
   "source": [
    "start = time.time()\n",
    "pipe_dc = make_pipeline(StandardScaler(), DecisionTreeClassifier())\n",
    "pipe_dc.fit(X_train, y_train)  # apply scaling on training data\n",
    "pipe_dc.score(X_test, y_test) \n",
    "end = time.time()\n",
    "elapsed = end - start\n",
    "print(f'Temps d\\'exécution : {elapsed:.2}ms',pipe_dc.score(X_test, y_test) )"
   ]
  },
  {
   "cell_type": "code",
   "execution_count": 25,
   "id": "c498d411",
   "metadata": {},
   "outputs": [
    {
     "name": "stdout",
     "output_type": "stream",
     "text": [
      "Temps d'exécution : 1.4e+01ms 0.9956638836520334\n"
     ]
    }
   ],
   "source": [
    "start = time.time()\n",
    "pipe_rf= make_pipeline(StandardScaler(), RandomForestClassifier())\n",
    "pipe_rf.fit(X_train, y_train)  # apply scaling on training data\n",
    "pipe_rf.score(X_test, y_test) \n",
    "end = time.time()\n",
    "elapsed = end - start\n",
    "print(f'Temps d\\'exécution : {elapsed:.2}ms',pipe_rf.score(X_test, y_test) ) "
   ]
  },
  {
   "cell_type": "markdown",
   "id": "f16d97da",
   "metadata": {},
   "source": [
    "# filtering features by correlation "
   ]
  },
  {
   "cell_type": "code",
   "execution_count": 32,
   "id": "e531f40a",
   "metadata": {},
   "outputs": [
    {
     "data": {
      "text/plain": [
       "Text(0.5, 1.0, 'La matrice de corrélation')"
      ]
     },
     "execution_count": 32,
     "metadata": {},
     "output_type": "execute_result"
    },
    {
     "data": {
      "image/png": "[encoded data removed]",
      "text/plain": [
       "<Figure size 720x576 with 2 Axes>"
      ]
     },
     "metadata": {
      "needs_background": "light"
     },
     "output_type": "display_data"
    }
   ],
   "source": [
    "f, ax1 = plt.subplots(1, 1, figsize=(10,8))\n",
    "# Entire DataFrame\n",
    "corr = df1.corr()\n",
    "sns.heatmap(corr, cmap='coolwarm_r', annot_kws={'size':8},ax=ax1)\n",
    "ax1.set_title(\"La matrice de corrélation\", fontsize=8) "
   ]
  },
  {
   "cell_type": "markdown",
   "id": "91290267",
   "metadata": {},
   "source": [
    "# NB : \n",
    "Many features in the dataset are higly correlated ( correlation higher than 0.8 or less than -0.8 . \n",
    "Those features need to be illminated from the dataset in order to improve the performance of the model and reducing its complexity . \n",
    "\n",
    " "
   ]
  },
  {
   "cell_type": "code",
   "execution_count": 31,
   "id": "a368edd8",
   "metadata": {},
   "outputs": [
    {
     "data": {
      "text/plain": [
       "duration          0.052119\n",
       "src_bytes         0.005457\n",
       "dst_bytes         0.003583\n",
       "land              0.008817\n",
       "wrong_fragment    0.081696\n",
       "                    ...   \n",
       "S1                0.045455\n",
       "S2                0.023252\n",
       "S3                0.031804\n",
       "SF                0.727673\n",
       "SH                0.049472\n",
       "Name: class, Length: 123, dtype: float64"
      ]
     },
     "execution_count": 31,
     "metadata": {},
     "output_type": "execute_result"
    }
   ],
   "source": [
    "abs(df.corr()['class']) "
   ]
  },
  {
   "cell_type": "markdown",
   "id": "f76daacd",
   "metadata": {},
   "source": [
    "# NB : \n",
    "Many features are not correlated to the class , they do not involove the model \n"
   ]
  },
  {
   "cell_type": "code",
   "execution_count": 32,
   "id": "9d09ad1e",
   "metadata": {},
   "outputs": [],
   "source": [
    "features= abs(df.corr()[\"class\"][abs(df.corr()[\"class\"])>0.7]).drop('class').index.tolist()\n",
    "X = df[features]\n",
    "X\n",
    "y=df['class']\n",
    "X_train, X_test, y_train, y_test = train_test_split(X, y, random_state=42)\n"
   ]
  },
  {
   "cell_type": "code",
   "execution_count": 35,
   "id": "ccc8069a",
   "metadata": {},
   "outputs": [
    {
     "data": {
      "text/plain": [
       "(148517, 2)"
      ]
     },
     "execution_count": 35,
     "metadata": {},
     "output_type": "execute_result"
    }
   ],
   "source": [
    "X.shape "
   ]
  },
  {
   "cell_type": "code",
   "execution_count": 36,
   "id": "23803d87",
   "metadata": {},
   "outputs": [
    {
     "data": {
      "text/html": [
       "<div>\n",
       "<style scoped>\n",
       "    .dataframe tbody tr th:only-of-type {\n",
       "        vertical-align: middle;\n",
       "    }\n",
       "\n",
       "    .dataframe tbody tr th {\n",
       "        vertical-align: top;\n",
       "    }\n",
       "\n",
       "    .dataframe thead th {\n",
       "        text-align: right;\n",
       "    }\n",
       "</style>\n",
       "<table border=\"1\" class=\"dataframe\">\n",
       "  <thead>\n",
       "    <tr style=\"text-align: right;\">\n",
       "      <th></th>\n",
       "      <th>same_srv_rate</th>\n",
       "      <th>SF</th>\n",
       "    </tr>\n",
       "  </thead>\n",
       "  <tbody>\n",
       "    <tr>\n",
       "      <th>0</th>\n",
       "      <td>1.00</td>\n",
       "      <td>1.0</td>\n",
       "    </tr>\n",
       "    <tr>\n",
       "      <th>1</th>\n",
       "      <td>0.08</td>\n",
       "      <td>1.0</td>\n",
       "    </tr>\n",
       "    <tr>\n",
       "      <th>2</th>\n",
       "      <td>0.05</td>\n",
       "      <td>0.0</td>\n",
       "    </tr>\n",
       "    <tr>\n",
       "      <th>3</th>\n",
       "      <td>1.00</td>\n",
       "      <td>1.0</td>\n",
       "    </tr>\n",
       "    <tr>\n",
       "      <th>4</th>\n",
       "      <td>1.00</td>\n",
       "      <td>1.0</td>\n",
       "    </tr>\n",
       "    <tr>\n",
       "      <th>...</th>\n",
       "      <td>...</td>\n",
       "      <td>...</td>\n",
       "    </tr>\n",
       "    <tr>\n",
       "      <th>148512</th>\n",
       "      <td>1.00</td>\n",
       "      <td>1.0</td>\n",
       "    </tr>\n",
       "    <tr>\n",
       "      <th>148513</th>\n",
       "      <td>1.00</td>\n",
       "      <td>1.0</td>\n",
       "    </tr>\n",
       "    <tr>\n",
       "      <th>148514</th>\n",
       "      <td>1.00</td>\n",
       "      <td>1.0</td>\n",
       "    </tr>\n",
       "    <tr>\n",
       "      <th>148515</th>\n",
       "      <td>1.00</td>\n",
       "      <td>1.0</td>\n",
       "    </tr>\n",
       "    <tr>\n",
       "      <th>148516</th>\n",
       "      <td>0.25</td>\n",
       "      <td>0.0</td>\n",
       "    </tr>\n",
       "  </tbody>\n",
       "</table>\n",
       "<p>148517 rows × 2 columns</p>\n",
       "</div>"
      ],
      "text/plain": [
       "        same_srv_rate   SF\n",
       "0                1.00  1.0\n",
       "1                0.08  1.0\n",
       "2                0.05  0.0\n",
       "3                1.00  1.0\n",
       "4                1.00  1.0\n",
       "...               ...  ...\n",
       "148512           1.00  1.0\n",
       "148513           1.00  1.0\n",
       "148514           1.00  1.0\n",
       "148515           1.00  1.0\n",
       "148516           0.25  0.0\n",
       "\n",
       "[148517 rows x 2 columns]"
      ]
     },
     "execution_count": 36,
     "metadata": {},
     "output_type": "execute_result"
    }
   ],
   "source": [
    "X"
   ]
  },
  {
   "cell_type": "code",
   "execution_count": 33,
   "id": "e161fe0e",
   "metadata": {
    "scrolled": true
   },
   "outputs": [
    {
     "name": "stdout",
     "output_type": "stream",
     "text": [
      "Temps d'exécution : 0.11ms 0.8555884729329383\n"
     ]
    }
   ],
   "source": [
    "start = time.time()\n",
    "pipe_log = make_pipeline(StandardScaler(),LogisticRegression())\n",
    "pipe_log.fit(X_train, y_train)  # apply scaling on training data\n",
    "pipe_log.score(X_test, y_test)  # apply scaling on testing data.'' \n",
    "end = time.time()\n",
    "elapsed = end - start\n",
    "print(f'Temps d\\'exécution : {elapsed:.2}ms',pipe_log.score(X_test, y_test) )  "
   ]
  },
  {
   "cell_type": "code",
   "execution_count": 34,
   "id": "07c26bc4",
   "metadata": {},
   "outputs": [
    {
     "name": "stdout",
     "output_type": "stream",
     "text": [
      "Temps d'exécution : 1e+01ms 0.8615136008618368\n"
     ]
    }
   ],
   "source": [
    "start = time.time()\n",
    "pipe_kn = make_pipeline(StandardScaler(), KNeighborsClassifier())\n",
    "pipe_kn.fit(X_train,y_train)  # apply scaling on training data\n",
    "pipe_kn.score(X_test, y_test) \n",
    "end = time.time()\n",
    "elapsed = end - start\n",
    "\n",
    "print(f'Temps d\\'exécution : {elapsed:.2}ms',pipe_kn.score(X_test, y_test))  "
   ]
  },
  {
   "cell_type": "code",
   "execution_count": 37,
   "id": "1da229d9",
   "metadata": {},
   "outputs": [
    {
     "name": "stdout",
     "output_type": "stream",
     "text": [
      "Temps d'exécution : 0.037ms 0.8645569620253165\n"
     ]
    }
   ],
   "source": [
    "start = time.time()\n",
    "pipe_dc = make_pipeline(StandardScaler(), DecisionTreeClassifier())\n",
    "pipe_dc.fit(X_train, y_train)  # apply scaling on training data\n",
    "pipe_dc.score(X_test, y_test) \n",
    "end = time.time()\n",
    "elapsed = end - start\n",
    "print(f'Temps d\\'exécution : {elapsed:.2}ms',pipe_dc.score(X_test, y_test) ) "
   ]
  },
  {
   "cell_type": "code",
   "execution_count": 38,
   "id": "5f45867f",
   "metadata": {},
   "outputs": [
    {
     "name": "stdout",
     "output_type": "stream",
     "text": [
      "Temps d'exécution : 1.9ms 0.8643684352275788\n"
     ]
    }
   ],
   "source": [
    "start = time.time()\n",
    "pipe_rf= make_pipeline(StandardScaler(), RandomForestClassifier())\n",
    "pipe_rf.fit(X_train, y_train)  # apply scaling on training data\n",
    "pipe_rf.score(X_test, y_test) \n",
    "end = time.time()\n",
    "elapsed = end - start\n",
    "print(f'Temps d\\'exécution : {elapsed:.2}ms',pipe_rf.score(X_test, y_test) )  "
   ]
  },
  {
   "cell_type": "markdown",
   "id": "d89c0b09",
   "metadata": {},
   "source": [
    "# NB \n",
    "Comme la valeur de corrélation 0.7 est choisi aléatoirement , essayons maintenant de tester plusieur valeur possible , pour qu'on puisse choisir la mielleur valeur seuil . "
   ]
  },
  {
   "cell_type": "code",
   "execution_count": 41,
   "id": "cc2d8549",
   "metadata": {},
   "outputs": [
    {
     "name": "stdout",
     "output_type": "stream",
     "text": [
      "Temps d'exécution : 0.85ms 0.9356046323727444 30\n",
      "Temps d'exécution : 0.7ms 0.9260705628871533 23\n",
      "Temps d'exécution : 0.56ms 0.9082951791004579 16\n",
      "Temps d'exécution : 0.33ms 0.9083221115001346 13\n",
      "Temps d'exécution : 0.28ms 0.898437920818745 12\n",
      "Temps d'exécution : 0.095ms 0.8678696471855643 5\n",
      "Temps d'exécution : 0.096ms 0.8555884729329383 2\n"
     ]
    }
   ],
   "source": [
    "vals=[0.1,0.2,0.3,0.4,0.5,0.6,0.7]\n",
    "\n",
    "from sklearn.preprocessing import StandardScaler\n",
    "from sklearn.model_selection import train_test_split\n",
    "for val in  vals : \n",
    "    \n",
    "   features= abs(df.corr()[\"class\"][abs(df.corr()[\"class\"])>val]).drop('class').index.tolist()\n",
    "   X=df[features]\n",
    "   y=df['class']\n",
    "   X_train, X_test, y_train, y_test = train_test_split(X, y, random_state=42)\n",
    "   start = time.time()\n",
    "   pipe_log = make_pipeline(StandardScaler(),LogisticRegression())\n",
    "   pipe_log.fit(X_train, y_train)  # apply scaling on training data\n",
    "   pipe_log.score(X_test, y_test)  # apply scaling on testing data.'' \n",
    "   end = time.time()\n",
    "   elapsed = end - start\n",
    "   print(f'Temps d\\'exécution : {elapsed:.2}ms',pipe_log.score(X_test, y_test),len(X.columns)) \n",
    "   \n",
    "\n"
   ]
  },
  {
   "cell_type": "markdown",
   "id": "11375a94",
   "metadata": {},
   "source": [
    "# NB : \n",
    "C'est vrai que nous avons gagné en terme de temps d'exécusion mais en contre partie la perfermance du modèle à diminuer . \n",
    "la meilleur valeur à choisir dans ce cas est pour Temps d'exécution : 0.7ms 0.9260705628871533 23 => valeur de corrélation supérieur à 0.2 "
   ]
  },
  {
   "cell_type": "code",
   "execution_count": 44,
   "id": "946f4858",
   "metadata": {},
   "outputs": [
    {
     "name": "stdout",
     "output_type": "stream",
     "text": [
      "Temps d'exécution : 8.9e+01ms 0.9849178561809857 30\n"
     ]
    },
    {
     "ename": "KeyboardInterrupt",
     "evalue": "",
     "output_type": "error",
     "traceback": [
      "\u001b[1;31m---------------------------------------------------------------------------\u001b[0m",
      "\u001b[1;31mKeyboardInterrupt\u001b[0m                         Traceback (most recent call last)",
      "\u001b[1;32m~\\AppData\\Local\\Temp/ipykernel_11976/1910702885.py\u001b[0m in \u001b[0;36m<module>\u001b[1;34m\u001b[0m\n\u001b[0;32m     11\u001b[0m    \u001b[0mpipe_kn\u001b[0m \u001b[1;33m=\u001b[0m \u001b[0mmake_pipeline\u001b[0m\u001b[1;33m(\u001b[0m\u001b[0mStandardScaler\u001b[0m\u001b[1;33m(\u001b[0m\u001b[1;33m)\u001b[0m\u001b[1;33m,\u001b[0m \u001b[0mKNeighborsClassifier\u001b[0m\u001b[1;33m(\u001b[0m\u001b[1;33m)\u001b[0m\u001b[1;33m)\u001b[0m\u001b[1;33m\u001b[0m\u001b[1;33m\u001b[0m\u001b[0m\n\u001b[0;32m     12\u001b[0m    \u001b[0mpipe_kn\u001b[0m\u001b[1;33m.\u001b[0m\u001b[0mfit\u001b[0m\u001b[1;33m(\u001b[0m\u001b[0mX_train\u001b[0m\u001b[1;33m,\u001b[0m\u001b[0my_train\u001b[0m\u001b[1;33m)\u001b[0m  \u001b[1;31m# apply scaling on training data\u001b[0m\u001b[1;33m\u001b[0m\u001b[1;33m\u001b[0m\u001b[0m\n\u001b[1;32m---> 13\u001b[1;33m    \u001b[0mpipe_kn\u001b[0m\u001b[1;33m.\u001b[0m\u001b[0mscore\u001b[0m\u001b[1;33m(\u001b[0m\u001b[0mX_test\u001b[0m\u001b[1;33m,\u001b[0m \u001b[0my_test\u001b[0m\u001b[1;33m)\u001b[0m\u001b[1;33m\u001b[0m\u001b[1;33m\u001b[0m\u001b[0m\n\u001b[0m\u001b[0;32m     14\u001b[0m    \u001b[0mend\u001b[0m \u001b[1;33m=\u001b[0m \u001b[0mtime\u001b[0m\u001b[1;33m.\u001b[0m\u001b[0mtime\u001b[0m\u001b[1;33m(\u001b[0m\u001b[1;33m)\u001b[0m\u001b[1;33m\u001b[0m\u001b[1;33m\u001b[0m\u001b[0m\n\u001b[0;32m     15\u001b[0m    \u001b[0melapsed\u001b[0m \u001b[1;33m=\u001b[0m \u001b[0mend\u001b[0m \u001b[1;33m-\u001b[0m \u001b[0mstart\u001b[0m\u001b[1;33m\u001b[0m\u001b[1;33m\u001b[0m\u001b[0m\n",
      "\u001b[1;32mC:\\ProgramData\\Anaconda3\\lib\\site-packages\\sklearn\\utils\\metaestimators.py\u001b[0m in \u001b[0;36m<lambda>\u001b[1;34m(*args, **kwargs)\u001b[0m\n\u001b[0;32m    111\u001b[0m \u001b[1;33m\u001b[0m\u001b[0m\n\u001b[0;32m    112\u001b[0m             \u001b[1;31m# lambda, but not partial, allows help() to work with update_wrapper\u001b[0m\u001b[1;33m\u001b[0m\u001b[1;33m\u001b[0m\u001b[0m\n\u001b[1;32m--> 113\u001b[1;33m             \u001b[0mout\u001b[0m \u001b[1;33m=\u001b[0m \u001b[1;32mlambda\u001b[0m \u001b[1;33m*\u001b[0m\u001b[0margs\u001b[0m\u001b[1;33m,\u001b[0m \u001b[1;33m**\u001b[0m\u001b[0mkwargs\u001b[0m\u001b[1;33m:\u001b[0m \u001b[0mself\u001b[0m\u001b[1;33m.\u001b[0m\u001b[0mfn\u001b[0m\u001b[1;33m(\u001b[0m\u001b[0mobj\u001b[0m\u001b[1;33m,\u001b[0m \u001b[1;33m*\u001b[0m\u001b[0margs\u001b[0m\u001b[1;33m,\u001b[0m \u001b[1;33m**\u001b[0m\u001b[0mkwargs\u001b[0m\u001b[1;33m)\u001b[0m  \u001b[1;31m# noqa\u001b[0m\u001b[1;33m\u001b[0m\u001b[1;33m\u001b[0m\u001b[0m\n\u001b[0m\u001b[0;32m    114\u001b[0m         \u001b[1;32melse\u001b[0m\u001b[1;33m:\u001b[0m\u001b[1;33m\u001b[0m\u001b[1;33m\u001b[0m\u001b[0m\n\u001b[0;32m    115\u001b[0m \u001b[1;33m\u001b[0m\u001b[0m\n",
      "\u001b[1;32mC:\\ProgramData\\Anaconda3\\lib\\site-packages\\sklearn\\pipeline.py\u001b[0m in \u001b[0;36mscore\u001b[1;34m(self, X, y, sample_weight)\u001b[0m\n\u001b[0;32m    709\u001b[0m         \u001b[1;32mif\u001b[0m \u001b[0msample_weight\u001b[0m \u001b[1;32mis\u001b[0m \u001b[1;32mnot\u001b[0m \u001b[1;32mNone\u001b[0m\u001b[1;33m:\u001b[0m\u001b[1;33m\u001b[0m\u001b[1;33m\u001b[0m\u001b[0m\n\u001b[0;32m    710\u001b[0m             \u001b[0mscore_params\u001b[0m\u001b[1;33m[\u001b[0m\u001b[1;34m\"sample_weight\"\u001b[0m\u001b[1;33m]\u001b[0m \u001b[1;33m=\u001b[0m \u001b[0msample_weight\u001b[0m\u001b[1;33m\u001b[0m\u001b[1;33m\u001b[0m\u001b[0m\n\u001b[1;32m--> 711\u001b[1;33m         \u001b[1;32mreturn\u001b[0m \u001b[0mself\u001b[0m\u001b[1;33m.\u001b[0m\u001b[0msteps\u001b[0m\u001b[1;33m[\u001b[0m\u001b[1;33m-\u001b[0m\u001b[1;36m1\u001b[0m\u001b[1;33m]\u001b[0m\u001b[1;33m[\u001b[0m\u001b[1;36m1\u001b[0m\u001b[1;33m]\u001b[0m\u001b[1;33m.\u001b[0m\u001b[0mscore\u001b[0m\u001b[1;33m(\u001b[0m\u001b[0mXt\u001b[0m\u001b[1;33m,\u001b[0m \u001b[0my\u001b[0m\u001b[1;33m,\u001b[0m \u001b[1;33m**\u001b[0m\u001b[0mscore_params\u001b[0m\u001b[1;33m)\u001b[0m\u001b[1;33m\u001b[0m\u001b[1;33m\u001b[0m\u001b[0m\n\u001b[0m\u001b[0;32m    712\u001b[0m \u001b[1;33m\u001b[0m\u001b[0m\n\u001b[0;32m    713\u001b[0m     \u001b[1;33m@\u001b[0m\u001b[0mproperty\u001b[0m\u001b[1;33m\u001b[0m\u001b[1;33m\u001b[0m\u001b[0m\n",
      "\u001b[1;32mC:\\ProgramData\\Anaconda3\\lib\\site-packages\\sklearn\\base.py\u001b[0m in \u001b[0;36mscore\u001b[1;34m(self, X, y, sample_weight)\u001b[0m\n\u001b[0;32m    649\u001b[0m         \u001b[1;32mfrom\u001b[0m \u001b[1;33m.\u001b[0m\u001b[0mmetrics\u001b[0m \u001b[1;32mimport\u001b[0m \u001b[0maccuracy_score\u001b[0m\u001b[1;33m\u001b[0m\u001b[1;33m\u001b[0m\u001b[0m\n\u001b[0;32m    650\u001b[0m \u001b[1;33m\u001b[0m\u001b[0m\n\u001b[1;32m--> 651\u001b[1;33m         \u001b[1;32mreturn\u001b[0m \u001b[0maccuracy_score\u001b[0m\u001b[1;33m(\u001b[0m\u001b[0my\u001b[0m\u001b[1;33m,\u001b[0m \u001b[0mself\u001b[0m\u001b[1;33m.\u001b[0m\u001b[0mpredict\u001b[0m\u001b[1;33m(\u001b[0m\u001b[0mX\u001b[0m\u001b[1;33m)\u001b[0m\u001b[1;33m,\u001b[0m \u001b[0msample_weight\u001b[0m\u001b[1;33m=\u001b[0m\u001b[0msample_weight\u001b[0m\u001b[1;33m)\u001b[0m\u001b[1;33m\u001b[0m\u001b[1;33m\u001b[0m\u001b[0m\n\u001b[0m\u001b[0;32m    652\u001b[0m \u001b[1;33m\u001b[0m\u001b[0m\n\u001b[0;32m    653\u001b[0m     \u001b[1;32mdef\u001b[0m \u001b[0m_more_tags\u001b[0m\u001b[1;33m(\u001b[0m\u001b[0mself\u001b[0m\u001b[1;33m)\u001b[0m\u001b[1;33m:\u001b[0m\u001b[1;33m\u001b[0m\u001b[1;33m\u001b[0m\u001b[0m\n",
      "\u001b[1;32mC:\\ProgramData\\Anaconda3\\lib\\site-packages\\sklearn\\neighbors\\_classification.py\u001b[0m in \u001b[0;36mpredict\u001b[1;34m(self, X)\u001b[0m\n\u001b[0;32m    212\u001b[0m             \u001b[0mClass\u001b[0m \u001b[0mlabels\u001b[0m \u001b[1;32mfor\u001b[0m \u001b[0meach\u001b[0m \u001b[0mdata\u001b[0m \u001b[0msample\u001b[0m\u001b[1;33m.\u001b[0m\u001b[1;33m\u001b[0m\u001b[1;33m\u001b[0m\u001b[0m\n\u001b[0;32m    213\u001b[0m         \"\"\"\n\u001b[1;32m--> 214\u001b[1;33m         \u001b[0mneigh_dist\u001b[0m\u001b[1;33m,\u001b[0m \u001b[0mneigh_ind\u001b[0m \u001b[1;33m=\u001b[0m \u001b[0mself\u001b[0m\u001b[1;33m.\u001b[0m\u001b[0mkneighbors\u001b[0m\u001b[1;33m(\u001b[0m\u001b[0mX\u001b[0m\u001b[1;33m)\u001b[0m\u001b[1;33m\u001b[0m\u001b[1;33m\u001b[0m\u001b[0m\n\u001b[0m\u001b[0;32m    215\u001b[0m         \u001b[0mclasses_\u001b[0m \u001b[1;33m=\u001b[0m \u001b[0mself\u001b[0m\u001b[1;33m.\u001b[0m\u001b[0mclasses_\u001b[0m\u001b[1;33m\u001b[0m\u001b[1;33m\u001b[0m\u001b[0m\n\u001b[0;32m    216\u001b[0m         \u001b[0m_y\u001b[0m \u001b[1;33m=\u001b[0m \u001b[0mself\u001b[0m\u001b[1;33m.\u001b[0m\u001b[0m_y\u001b[0m\u001b[1;33m\u001b[0m\u001b[1;33m\u001b[0m\u001b[0m\n",
      "\u001b[1;32mC:\\ProgramData\\Anaconda3\\lib\\site-packages\\sklearn\\neighbors\\_base.py\u001b[0m in \u001b[0;36mkneighbors\u001b[1;34m(self, X, n_neighbors, return_distance)\u001b[0m\n\u001b[0;32m    750\u001b[0m                 \u001b[0mkwds\u001b[0m \u001b[1;33m=\u001b[0m \u001b[0mself\u001b[0m\u001b[1;33m.\u001b[0m\u001b[0meffective_metric_params_\u001b[0m\u001b[1;33m\u001b[0m\u001b[1;33m\u001b[0m\u001b[0m\n\u001b[0;32m    751\u001b[0m \u001b[1;33m\u001b[0m\u001b[0m\n\u001b[1;32m--> 752\u001b[1;33m             chunked_results = list(\n\u001b[0m\u001b[0;32m    753\u001b[0m                 pairwise_distances_chunked(\n\u001b[0;32m    754\u001b[0m                     \u001b[0mX\u001b[0m\u001b[1;33m,\u001b[0m\u001b[1;33m\u001b[0m\u001b[1;33m\u001b[0m\u001b[0m\n",
      "\u001b[1;32mC:\\ProgramData\\Anaconda3\\lib\\site-packages\\sklearn\\metrics\\pairwise.py\u001b[0m in \u001b[0;36mpairwise_distances_chunked\u001b[1;34m(X, Y, reduce_func, metric, n_jobs, working_memory, **kwds)\u001b[0m\n\u001b[0;32m   1724\u001b[0m         \u001b[1;32mif\u001b[0m \u001b[0mreduce_func\u001b[0m \u001b[1;32mis\u001b[0m \u001b[1;32mnot\u001b[0m \u001b[1;32mNone\u001b[0m\u001b[1;33m:\u001b[0m\u001b[1;33m\u001b[0m\u001b[1;33m\u001b[0m\u001b[0m\n\u001b[0;32m   1725\u001b[0m             \u001b[0mchunk_size\u001b[0m \u001b[1;33m=\u001b[0m \u001b[0mD_chunk\u001b[0m\u001b[1;33m.\u001b[0m\u001b[0mshape\u001b[0m\u001b[1;33m[\u001b[0m\u001b[1;36m0\u001b[0m\u001b[1;33m]\u001b[0m\u001b[1;33m\u001b[0m\u001b[1;33m\u001b[0m\u001b[0m\n\u001b[1;32m-> 1726\u001b[1;33m             \u001b[0mD_chunk\u001b[0m \u001b[1;33m=\u001b[0m \u001b[0mreduce_func\u001b[0m\u001b[1;33m(\u001b[0m\u001b[0mD_chunk\u001b[0m\u001b[1;33m,\u001b[0m \u001b[0msl\u001b[0m\u001b[1;33m.\u001b[0m\u001b[0mstart\u001b[0m\u001b[1;33m)\u001b[0m\u001b[1;33m\u001b[0m\u001b[1;33m\u001b[0m\u001b[0m\n\u001b[0m\u001b[0;32m   1727\u001b[0m             \u001b[0m_check_chunk_size\u001b[0m\u001b[1;33m(\u001b[0m\u001b[0mD_chunk\u001b[0m\u001b[1;33m,\u001b[0m \u001b[0mchunk_size\u001b[0m\u001b[1;33m)\u001b[0m\u001b[1;33m\u001b[0m\u001b[1;33m\u001b[0m\u001b[0m\n\u001b[0;32m   1728\u001b[0m         \u001b[1;32myield\u001b[0m \u001b[0mD_chunk\u001b[0m\u001b[1;33m\u001b[0m\u001b[1;33m\u001b[0m\u001b[0m\n",
      "\u001b[1;32mC:\\ProgramData\\Anaconda3\\lib\\site-packages\\sklearn\\neighbors\\_base.py\u001b[0m in \u001b[0;36m_kneighbors_reduce_func\u001b[1;34m(self, dist, start, n_neighbors, return_distance)\u001b[0m\n\u001b[0;32m    632\u001b[0m         \"\"\"\n\u001b[0;32m    633\u001b[0m         \u001b[0msample_range\u001b[0m \u001b[1;33m=\u001b[0m \u001b[0mnp\u001b[0m\u001b[1;33m.\u001b[0m\u001b[0marange\u001b[0m\u001b[1;33m(\u001b[0m\u001b[0mdist\u001b[0m\u001b[1;33m.\u001b[0m\u001b[0mshape\u001b[0m\u001b[1;33m[\u001b[0m\u001b[1;36m0\u001b[0m\u001b[1;33m]\u001b[0m\u001b[1;33m)\u001b[0m\u001b[1;33m[\u001b[0m\u001b[1;33m:\u001b[0m\u001b[1;33m,\u001b[0m \u001b[1;32mNone\u001b[0m\u001b[1;33m]\u001b[0m\u001b[1;33m\u001b[0m\u001b[1;33m\u001b[0m\u001b[0m\n\u001b[1;32m--> 634\u001b[1;33m         \u001b[0mneigh_ind\u001b[0m \u001b[1;33m=\u001b[0m \u001b[0mnp\u001b[0m\u001b[1;33m.\u001b[0m\u001b[0margpartition\u001b[0m\u001b[1;33m(\u001b[0m\u001b[0mdist\u001b[0m\u001b[1;33m,\u001b[0m \u001b[0mn_neighbors\u001b[0m \u001b[1;33m-\u001b[0m \u001b[1;36m1\u001b[0m\u001b[1;33m,\u001b[0m \u001b[0maxis\u001b[0m\u001b[1;33m=\u001b[0m\u001b[1;36m1\u001b[0m\u001b[1;33m)\u001b[0m\u001b[1;33m\u001b[0m\u001b[1;33m\u001b[0m\u001b[0m\n\u001b[0m\u001b[0;32m    635\u001b[0m         \u001b[0mneigh_ind\u001b[0m \u001b[1;33m=\u001b[0m \u001b[0mneigh_ind\u001b[0m\u001b[1;33m[\u001b[0m\u001b[1;33m:\u001b[0m\u001b[1;33m,\u001b[0m \u001b[1;33m:\u001b[0m\u001b[0mn_neighbors\u001b[0m\u001b[1;33m]\u001b[0m\u001b[1;33m\u001b[0m\u001b[1;33m\u001b[0m\u001b[0m\n\u001b[0;32m    636\u001b[0m         \u001b[1;31m# argpartition doesn't guarantee sorted order, so we sort again\u001b[0m\u001b[1;33m\u001b[0m\u001b[1;33m\u001b[0m\u001b[0m\n",
      "\u001b[1;32m<__array_function__ internals>\u001b[0m in \u001b[0;36margpartition\u001b[1;34m(*args, **kwargs)\u001b[0m\n",
      "\u001b[1;32mC:\\ProgramData\\Anaconda3\\lib\\site-packages\\numpy\\core\\fromnumeric.py\u001b[0m in \u001b[0;36margpartition\u001b[1;34m(a, kth, axis, kind, order)\u001b[0m\n\u001b[0;32m    835\u001b[0m \u001b[1;33m\u001b[0m\u001b[0m\n\u001b[0;32m    836\u001b[0m     \"\"\"\n\u001b[1;32m--> 837\u001b[1;33m     \u001b[1;32mreturn\u001b[0m \u001b[0m_wrapfunc\u001b[0m\u001b[1;33m(\u001b[0m\u001b[0ma\u001b[0m\u001b[1;33m,\u001b[0m \u001b[1;34m'argpartition'\u001b[0m\u001b[1;33m,\u001b[0m \u001b[0mkth\u001b[0m\u001b[1;33m,\u001b[0m \u001b[0maxis\u001b[0m\u001b[1;33m=\u001b[0m\u001b[0maxis\u001b[0m\u001b[1;33m,\u001b[0m \u001b[0mkind\u001b[0m\u001b[1;33m=\u001b[0m\u001b[0mkind\u001b[0m\u001b[1;33m,\u001b[0m \u001b[0morder\u001b[0m\u001b[1;33m=\u001b[0m\u001b[0morder\u001b[0m\u001b[1;33m)\u001b[0m\u001b[1;33m\u001b[0m\u001b[1;33m\u001b[0m\u001b[0m\n\u001b[0m\u001b[0;32m    838\u001b[0m \u001b[1;33m\u001b[0m\u001b[0m\n\u001b[0;32m    839\u001b[0m \u001b[1;33m\u001b[0m\u001b[0m\n",
      "\u001b[1;32mC:\\ProgramData\\Anaconda3\\lib\\site-packages\\numpy\\core\\fromnumeric.py\u001b[0m in \u001b[0;36m_wrapfunc\u001b[1;34m(obj, method, *args, **kwds)\u001b[0m\n\u001b[0;32m     56\u001b[0m \u001b[1;33m\u001b[0m\u001b[0m\n\u001b[0;32m     57\u001b[0m     \u001b[1;32mtry\u001b[0m\u001b[1;33m:\u001b[0m\u001b[1;33m\u001b[0m\u001b[1;33m\u001b[0m\u001b[0m\n\u001b[1;32m---> 58\u001b[1;33m         \u001b[1;32mreturn\u001b[0m \u001b[0mbound\u001b[0m\u001b[1;33m(\u001b[0m\u001b[1;33m*\u001b[0m\u001b[0margs\u001b[0m\u001b[1;33m,\u001b[0m \u001b[1;33m**\u001b[0m\u001b[0mkwds\u001b[0m\u001b[1;33m)\u001b[0m\u001b[1;33m\u001b[0m\u001b[1;33m\u001b[0m\u001b[0m\n\u001b[0m\u001b[0;32m     59\u001b[0m     \u001b[1;32mexcept\u001b[0m \u001b[0mTypeError\u001b[0m\u001b[1;33m:\u001b[0m\u001b[1;33m\u001b[0m\u001b[1;33m\u001b[0m\u001b[0m\n\u001b[0;32m     60\u001b[0m         \u001b[1;31m# A TypeError occurs if the object does have such a method in its\u001b[0m\u001b[1;33m\u001b[0m\u001b[1;33m\u001b[0m\u001b[0m\n",
      "\u001b[1;31mKeyboardInterrupt\u001b[0m: "
     ]
    }
   ],
   "source": [
    "vals=[0.1,0.2,0.3,0.4,0.5,0.6,0.7]\n",
    "\n",
    "for val in  vals : \n",
    "   features= abs(df.corr()[\"class\"][abs(df.corr()[\"class\"])>val]).drop('class').index.tolist()\n",
    "   X=df[features]\n",
    "   y=df['class']\n",
    "   X_train, X_test, y_train, y_test = train_test_split(X, y, random_state=42)  \n",
    "   start = time.time()\n",
    "   pipe_kn = make_pipeline(StandardScaler(), KNeighborsClassifier())\n",
    "   pipe_kn.fit(X_train,y_train)  # apply scaling on training data\n",
    "   pipe_kn.score(X_test, y_test) \n",
    "   end = time.time()\n",
    "   elapsed = end - start\n",
    "   print(f'Temps d\\'exécution : {elapsed:.2}ms',pipe_kn.score(X_test, y_test),len(X.columns))  "
   ]
  },
  {
   "cell_type": "markdown",
   "id": "87310daf",
   "metadata": {},
   "source": [
    "# NB : \n",
    "Ce teste nécessite un temps d exécusion non supportable par ma machine "
   ]
  },
  {
   "cell_type": "code",
   "execution_count": 45,
   "id": "6e243a30",
   "metadata": {},
   "outputs": [
    {
     "name": "stdout",
     "output_type": "stream",
     "text": [
      "Temps d'exécution : 0.39ms 0.9857796929706437 30\n",
      "Temps d'exécution : 0.31ms 0.9833288446000539 23\n",
      "Temps d'exécution : 0.24ms 0.9723673579315917 16\n",
      "Temps d'exécution : 0.2ms 0.9516294101804471 13\n",
      "Temps d'exécution : 0.18ms 0.9480204686237543 12\n",
      "Temps d'exécution : 0.092ms 0.916401831403178 5\n",
      "Temps d'exécution : 0.028ms 0.8645569620253165 2\n"
     ]
    }
   ],
   "source": [
    "vals=[0.1,0.2,0.3,0.4,0.5,0.6,0.7]\n",
    "\n",
    "for val in  vals : \n",
    "   features= abs(df.corr()[\"class\"][abs(df.corr()[\"class\"])>val]).drop('class').index.tolist()\n",
    "   X=df[features]\n",
    "   y=df['class']\n",
    "   X_train, X_test, y_train, y_test = train_test_split(X, y, random_state=42)\n",
    "   start = time.time()\n",
    "   pipe_dc = make_pipeline(StandardScaler(), DecisionTreeClassifier())\n",
    "   pipe_dc.fit(X_train, y_train)  # apply scaling on training data\n",
    "   pipe_dc.score(X_test, y_test) \n",
    "   end = time.time()\n",
    "   elapsed = end - start\n",
    "   print(f'Temps d\\'exécution : {elapsed:.2}ms',pipe_dc.score(X_test, y_test),len(X.columns))"
   ]
  },
  {
   "cell_type": "markdown",
   "id": "d822ec76",
   "metadata": {},
   "source": [
    "# NB : \n",
    "De mème pour l'algorithme DecisionTreeClassifier pour toutes les valeurs de corrélation , la perfermance du modèle a diminué . \n",
    "C'est vrai que nous avons gagné en terme de temps d exécusion mais la perte de la perfermance prouve que la selection par corrélation n'est un bon choix dans ce cas . \n",
    "Temps d'exécution : 0.39ms 0.9857796929706437 30 => la meilleur valeur de corrélation doit ètre suppérieur 0.1"
   ]
  },
  {
   "cell_type": "code",
   "execution_count": 48,
   "id": "c6675a24",
   "metadata": {},
   "outputs": [
    {
     "name": "stdout",
     "output_type": "stream",
     "text": [
      "Temps d'exécution : 5.8ms 0.9888499865338002 30\n",
      "Temps d'exécution : 5.3ms 0.9865338001615944 23\n",
      "Temps d'exécution : 5.1ms 0.9757877726905467 16\n",
      "Temps d'exécution : 4.5ms 0.9583086453002962 13\n",
      "Temps d'exécution : 4.8ms 0.953784002154592 12\n",
      "Temps d'exécution : 3.6ms 0.9196606517640722 5\n",
      "Temps d'exécution : 1.7ms 0.8645569620253165 2\n"
     ]
    }
   ],
   "source": [
    "vals=[0.1,0.2,0.3,0.4,0.5,0.6,0.7]\n",
    "\n",
    "for val in  vals : \n",
    "   features= abs(df.corr()[\"class\"][abs(df.corr()[\"class\"])>val]).drop('class').index.tolist()\n",
    "   X=df[features]\n",
    "   y=df['class']\n",
    "   X_train, X_test, y_train, y_test = train_test_split(X, y, random_state=42)\n",
    "   start = time.time()\n",
    "   pipe_rf= make_pipeline(StandardScaler(), RandomForestClassifier())\n",
    "   pipe_rf.fit(X_train, y_train)  # apply scaling on training data\n",
    "   pipe_rf.score(X_test, y_test) \n",
    "   end = time.time()\n",
    "   elapsed = end - start\n",
    "   print(f'Temps d\\'exécution : {elapsed:.2}ms',pipe_rf.score(X_test, y_test),len(X.columns) )   "
   ]
  },
  {
   "cell_type": "markdown",
   "id": "7d3e14e2",
   "metadata": {},
   "source": [
    "# NB : \n",
    "De mème pour l'algorithme RandomForestClassifier pour toutes les valeurs de corrélation , la perfermance du modèle a diminué . C'est vrai que nous avons gagné en terme de temps d exécusion mais la perte de la perfermance prouve que la selection par corrélation n'est un bon choix dans ce cas . Temps d'exécution : 5.8ms 0.9857796929706437 30 => la meilleur valeur de corrélation doit ètre suppérieur 0.1 "
   ]
  },
  {
   "cell_type": "markdown",
   "id": "8b2aecca",
   "metadata": {},
   "source": [
    "# Filtering with dependency classifiers : chi2 , anova .. (selection based on dependency )"
   ]
  },
  {
   "cell_type": "code",
   "execution_count": 72,
   "id": "688534cc",
   "metadata": {},
   "outputs": [
    {
     "data": {
      "text/plain": [
       "(array([8.82547353e+06, 3.21768902e+09, 1.53049748e+09, 1.15419458e+01,\n",
       "        2.78361288e+03, 4.13461886e+00, 2.95152313e+02, 3.27439597e+02,\n",
       "        3.91195305e+04, 2.82071022e+04, 2.68983969e+01, 1.26879611e+02,\n",
       "        3.48156229e+04, 1.02016105e+03, 1.45250692e-02, 4.22689151e+02,\n",
       "                   nan, 9.11616930e+00, 2.16162560e+00, 6.67378787e+06,\n",
       "        6.72397376e+03, 3.73443485e+04, 3.74564453e+04, 1.12102469e+04,\n",
       "        1.12093900e+04, 2.11352619e+04, 3.86794516e+03, 1.30859221e+03,\n",
       "        1.09328421e+06, 7.37801760e+06, 2.48626384e+04, 3.98205170e+03,\n",
       "        6.43426485e+02, 1.62473749e+02, 3.70541494e+04, 3.84647128e+04,\n",
       "        1.02719583e+04, 1.08681195e+04, 5.08041997e+03, 8.76264901e+01,\n",
       "        5.84902148e+03, 1.70389029e+02, 2.92367935e+01, 9.77960315e+02,\n",
       "        2.15647258e+00, 2.96919146e+02, 8.15146635e+02, 8.34554889e+02,\n",
       "        6.24298812e+02, 6.51254719e+02, 5.91951723e+02, 6.08125268e+02,\n",
       "        5.19889892e+02, 9.17362130e+03, 5.07849293e+02, 3.27945866e+03,\n",
       "        3.19858393e+03, 5.58526398e+02, 5.40196381e+02, 3.28953159e+02,\n",
       "        1.50390611e+02, 8.82454735e+02, 5.95186432e+02, 2.15647258e+00,\n",
       "        5.20788128e+02, 3.23219758e+04, 1.07823629e+00, 6.10281740e+02,\n",
       "        2.15647258e+00, 1.01512760e+03, 7.92503673e+02, 4.89519276e+02,\n",
       "        3.48270322e+02, 4.62563368e+02, 5.52221216e+02, 4.93832221e+02,\n",
       "        5.07849293e+02, 5.26179310e+02, 4.63641605e+02, 4.12964499e+02,\n",
       "        4.06495081e+02, 4.16199208e+02, 7.24574787e+02, 3.41800904e+02,\n",
       "        1.65084408e+02, 5.75366583e-01, 2.26429621e+01, 9.81195024e+01,\n",
       "        6.94525495e+02, 8.62589032e+01, 2.15932291e+04, 7.41952397e+00,\n",
       "        9.50848061e+01, 1.01354211e+02, 7.15024940e+01, 5.51052993e+03,\n",
       "        2.83576144e+02, 3.42880424e+02, 5.82247597e+02, 6.15672922e+02,\n",
       "        5.48822272e+02, 1.22564470e+03, 3.70976199e+00, 4.56784317e-01,\n",
       "        4.45397523e+02, 9.27440496e+00, 5.49221444e+02, 8.94936121e+02,\n",
       "        7.92503673e+02, 7.11635951e+02, 7.90347201e+02, 1.78843539e+01,\n",
       "        6.90329789e+03, 1.68288770e+03, 1.09096487e+02, 2.58881806e+03,\n",
       "        3.82903283e+04, 3.06057668e+02, 8.02203587e+01, 1.49921184e+02,\n",
       "        3.10805703e+04, 3.62646916e+02]),\n",
       " array([0.00000000e+000, 0.00000000e+000, 0.00000000e+000, 6.80433881e-004,\n",
       "        0.00000000e+000, 4.20145279e-002, 3.74927564e-066, 3.47098772e-073,\n",
       "        0.00000000e+000, 0.00000000e+000, 2.14436678e-007, 1.97391599e-029,\n",
       "        0.00000000e+000, 7.44773000e-224, 9.04071241e-001, 6.34052458e-094,\n",
       "                    nan, 2.53359954e-003, 1.41494929e-001, 0.00000000e+000,\n",
       "        0.00000000e+000, 0.00000000e+000, 0.00000000e+000, 0.00000000e+000,\n",
       "        0.00000000e+000, 0.00000000e+000, 0.00000000e+000, 1.53467944e-286,\n",
       "        0.00000000e+000, 0.00000000e+000, 0.00000000e+000, 0.00000000e+000,\n",
       "        6.00803255e-142, 3.25978632e-037, 0.00000000e+000, 0.00000000e+000,\n",
       "        0.00000000e+000, 0.00000000e+000, 0.00000000e+000, 7.90586931e-021,\n",
       "        0.00000000e+000, 6.08413911e-039, 6.40512985e-008, 1.10905301e-214,\n",
       "        1.41970274e-001, 1.54524406e-066, 2.74756644e-179, 1.65730446e-183,\n",
       "        8.68533092e-138, 1.19188640e-143, 9.42720259e-131, 2.86093690e-134,\n",
       "        4.47195362e-115, 0.00000000e+000, 1.86272578e-112, 0.00000000e+000,\n",
       "        0.00000000e+000, 1.75864306e-123, 1.70887453e-119, 1.62476999e-073,\n",
       "        1.42423699e-034, 6.39723270e-194, 1.86550029e-131, 1.41970274e-001,\n",
       "        2.85150692e-115, 0.00000000e+000, 2.99092445e-001, 9.71560944e-135,\n",
       "        1.41970274e-001, 9.24903304e-223, 2.30094930e-174, 1.81306072e-108,\n",
       "        1.00879794e-077, 1.33064238e-102, 4.13796807e-122, 2.08915694e-109,\n",
       "        1.86272578e-112, 1.91498938e-116, 7.75214514e-103, 8.29538888e-092,\n",
       "        2.12356294e-090, 1.63961716e-092, 1.35483148e-159, 2.58623963e-076,\n",
       "        8.76740753e-038, 4.48134225e-001, 1.95073455e-006, 3.93880488e-023,\n",
       "        4.63636808e-153, 1.57855122e-020, 0.00000000e+000, 6.45198830e-003,\n",
       "        1.82401349e-022, 7.69215078e-024, 2.76907906e-017, 0.00000000e+000,\n",
       "        1.24827324e-063, 1.50512715e-076, 1.21670229e-128, 6.52959452e-136,\n",
       "        2.27088104e-121, 1.62944454e-268, 5.40951044e-002, 4.99130674e-001,\n",
       "        7.24024631e-099, 2.32378167e-003, 1.85933655e-121, 1.23780050e-196,\n",
       "        2.30094930e-174, 8.81900422e-157, 6.77281661e-174, 2.34743084e-005,\n",
       "        0.00000000e+000, 0.00000000e+000, 1.54575267e-025, 0.00000000e+000,\n",
       "        0.00000000e+000, 1.57780238e-068, 3.34898817e-019, 1.80379445e-034,\n",
       "        0.00000000e+000, 7.46846475e-081]))"
      ]
     },
     "execution_count": 72,
     "metadata": {},
     "output_type": "execute_result"
    }
   ],
   "source": [
    "X = df.drop('class', axis=1) \n",
    "y=df['class'] \n",
    "chi2(X,y) "
   ]
  },
  {
   "cell_type": "code",
   "execution_count": 73,
   "id": "4adafa6d",
   "metadata": {},
   "outputs": [],
   "source": [
    "selector=SelectKBest(chi2,k=10)\n",
    "X1=selector.fit_transform(X,y)\n",
    "F1=np.append(selector.get_feature_names_out(),\"class\")\n",
    "df=df[F1]"
   ]
  },
  {
   "cell_type": "code",
   "execution_count": 74,
   "id": "4ff2e6f1",
   "metadata": {},
   "outputs": [
    {
     "data": {
      "text/html": [
       "<div>\n",
       "<style scoped>\n",
       "    .dataframe tbody tr th:only-of-type {\n",
       "        vertical-align: middle;\n",
       "    }\n",
       "\n",
       "    .dataframe tbody tr th {\n",
       "        vertical-align: top;\n",
       "    }\n",
       "\n",
       "    .dataframe thead th {\n",
       "        text-align: right;\n",
       "    }\n",
       "</style>\n",
       "<table border=\"1\" class=\"dataframe\">\n",
       "  <thead>\n",
       "    <tr style=\"text-align: right;\">\n",
       "      <th></th>\n",
       "      <th>duration</th>\n",
       "      <th>src_bytes</th>\n",
       "      <th>dst_bytes</th>\n",
       "      <th>logged_in</th>\n",
       "      <th>count</th>\n",
       "      <th>srv_serror_rate</th>\n",
       "      <th>dst_host_count</th>\n",
       "      <th>dst_host_srv_count</th>\n",
       "      <th>dst_host_srv_serror_rate</th>\n",
       "      <th>S0</th>\n",
       "      <th>class</th>\n",
       "    </tr>\n",
       "  </thead>\n",
       "  <tbody>\n",
       "    <tr>\n",
       "      <th>0</th>\n",
       "      <td>0</td>\n",
       "      <td>491</td>\n",
       "      <td>0</td>\n",
       "      <td>0</td>\n",
       "      <td>2</td>\n",
       "      <td>0.0</td>\n",
       "      <td>150</td>\n",
       "      <td>25</td>\n",
       "      <td>0.00</td>\n",
       "      <td>0.0</td>\n",
       "      <td>1</td>\n",
       "    </tr>\n",
       "    <tr>\n",
       "      <th>1</th>\n",
       "      <td>0</td>\n",
       "      <td>146</td>\n",
       "      <td>0</td>\n",
       "      <td>0</td>\n",
       "      <td>13</td>\n",
       "      <td>0.0</td>\n",
       "      <td>255</td>\n",
       "      <td>1</td>\n",
       "      <td>0.00</td>\n",
       "      <td>0.0</td>\n",
       "      <td>1</td>\n",
       "    </tr>\n",
       "    <tr>\n",
       "      <th>2</th>\n",
       "      <td>0</td>\n",
       "      <td>0</td>\n",
       "      <td>0</td>\n",
       "      <td>0</td>\n",
       "      <td>123</td>\n",
       "      <td>1.0</td>\n",
       "      <td>255</td>\n",
       "      <td>26</td>\n",
       "      <td>1.00</td>\n",
       "      <td>1.0</td>\n",
       "      <td>0</td>\n",
       "    </tr>\n",
       "    <tr>\n",
       "      <th>3</th>\n",
       "      <td>0</td>\n",
       "      <td>232</td>\n",
       "      <td>8153</td>\n",
       "      <td>1</td>\n",
       "      <td>5</td>\n",
       "      <td>0.2</td>\n",
       "      <td>30</td>\n",
       "      <td>255</td>\n",
       "      <td>0.01</td>\n",
       "      <td>0.0</td>\n",
       "      <td>1</td>\n",
       "    </tr>\n",
       "    <tr>\n",
       "      <th>4</th>\n",
       "      <td>0</td>\n",
       "      <td>199</td>\n",
       "      <td>420</td>\n",
       "      <td>1</td>\n",
       "      <td>30</td>\n",
       "      <td>0.0</td>\n",
       "      <td>255</td>\n",
       "      <td>255</td>\n",
       "      <td>0.00</td>\n",
       "      <td>0.0</td>\n",
       "      <td>1</td>\n",
       "    </tr>\n",
       "    <tr>\n",
       "      <th>...</th>\n",
       "      <td>...</td>\n",
       "      <td>...</td>\n",
       "      <td>...</td>\n",
       "      <td>...</td>\n",
       "      <td>...</td>\n",
       "      <td>...</td>\n",
       "      <td>...</td>\n",
       "      <td>...</td>\n",
       "      <td>...</td>\n",
       "      <td>...</td>\n",
       "      <td>...</td>\n",
       "    </tr>\n",
       "    <tr>\n",
       "      <th>148512</th>\n",
       "      <td>0</td>\n",
       "      <td>794</td>\n",
       "      <td>333</td>\n",
       "      <td>1</td>\n",
       "      <td>1</td>\n",
       "      <td>0.0</td>\n",
       "      <td>100</td>\n",
       "      <td>141</td>\n",
       "      <td>0.00</td>\n",
       "      <td>0.0</td>\n",
       "      <td>1</td>\n",
       "    </tr>\n",
       "    <tr>\n",
       "      <th>148513</th>\n",
       "      <td>0</td>\n",
       "      <td>317</td>\n",
       "      <td>938</td>\n",
       "      <td>1</td>\n",
       "      <td>2</td>\n",
       "      <td>0.0</td>\n",
       "      <td>197</td>\n",
       "      <td>255</td>\n",
       "      <td>0.00</td>\n",
       "      <td>0.0</td>\n",
       "      <td>1</td>\n",
       "    </tr>\n",
       "    <tr>\n",
       "      <th>148514</th>\n",
       "      <td>0</td>\n",
       "      <td>54540</td>\n",
       "      <td>8314</td>\n",
       "      <td>1</td>\n",
       "      <td>5</td>\n",
       "      <td>0.0</td>\n",
       "      <td>255</td>\n",
       "      <td>255</td>\n",
       "      <td>0.00</td>\n",
       "      <td>0.0</td>\n",
       "      <td>0</td>\n",
       "    </tr>\n",
       "    <tr>\n",
       "      <th>148515</th>\n",
       "      <td>0</td>\n",
       "      <td>42</td>\n",
       "      <td>42</td>\n",
       "      <td>0</td>\n",
       "      <td>4</td>\n",
       "      <td>0.0</td>\n",
       "      <td>255</td>\n",
       "      <td>252</td>\n",
       "      <td>0.00</td>\n",
       "      <td>0.0</td>\n",
       "      <td>1</td>\n",
       "    </tr>\n",
       "    <tr>\n",
       "      <th>148516</th>\n",
       "      <td>0</td>\n",
       "      <td>0</td>\n",
       "      <td>0</td>\n",
       "      <td>0</td>\n",
       "      <td>4</td>\n",
       "      <td>0.0</td>\n",
       "      <td>255</td>\n",
       "      <td>21</td>\n",
       "      <td>0.00</td>\n",
       "      <td>0.0</td>\n",
       "      <td>0</td>\n",
       "    </tr>\n",
       "  </tbody>\n",
       "</table>\n",
       "<p>148517 rows × 11 columns</p>\n",
       "</div>"
      ],
      "text/plain": [
       "        duration  src_bytes  dst_bytes  logged_in  count  srv_serror_rate  \\\n",
       "0              0        491          0          0      2              0.0   \n",
       "1              0        146          0          0     13              0.0   \n",
       "2              0          0          0          0    123              1.0   \n",
       "3              0        232       8153          1      5              0.2   \n",
       "4              0        199        420          1     30              0.0   \n",
       "...          ...        ...        ...        ...    ...              ...   \n",
       "148512         0        794        333          1      1              0.0   \n",
       "148513         0        317        938          1      2              0.0   \n",
       "148514         0      54540       8314          1      5              0.0   \n",
       "148515         0         42         42          0      4              0.0   \n",
       "148516         0          0          0          0      4              0.0   \n",
       "\n",
       "        dst_host_count  dst_host_srv_count  dst_host_srv_serror_rate   S0  \\\n",
       "0                  150                  25                      0.00  0.0   \n",
       "1                  255                   1                      0.00  0.0   \n",
       "2                  255                  26                      1.00  1.0   \n",
       "3                   30                 255                      0.01  0.0   \n",
       "4                  255                 255                      0.00  0.0   \n",
       "...                ...                 ...                       ...  ...   \n",
       "148512             100                 141                      0.00  0.0   \n",
       "148513             197                 255                      0.00  0.0   \n",
       "148514             255                 255                      0.00  0.0   \n",
       "148515             255                 252                      0.00  0.0   \n",
       "148516             255                  21                      0.00  0.0   \n",
       "\n",
       "        class  \n",
       "0           1  \n",
       "1           1  \n",
       "2           0  \n",
       "3           1  \n",
       "4           1  \n",
       "...       ...  \n",
       "148512      1  \n",
       "148513      1  \n",
       "148514      0  \n",
       "148515      1  \n",
       "148516      0  \n",
       "\n",
       "[148517 rows x 11 columns]"
      ]
     },
     "execution_count": 74,
     "metadata": {},
     "output_type": "execute_result"
    }
   ],
   "source": [
    "df "
   ]
  },
  {
   "cell_type": "markdown",
   "id": "e15fc830",
   "metadata": {},
   "source": [
    "# NB : \n",
    "le nombre des caractéristiques est diminué à 11 . "
   ]
  },
  {
   "cell_type": "code",
   "execution_count": 76,
   "id": "d65869e4",
   "metadata": {},
   "outputs": [],
   "source": [
    "# training models and comparing scores . \n",
    "X = df.drop('class', axis=1) \n",
    "y = df['class']\n",
    "X_train, X_test, y_train, y_test = train_test_split(X, y, random_state=42)   "
   ]
  },
  {
   "cell_type": "code",
   "execution_count": 77,
   "id": "b9018e00",
   "metadata": {},
   "outputs": [
    {
     "name": "stdout",
     "output_type": "stream",
     "text": [
      "Temps d'exécution : 0.3ms 0.8748451387018583\n"
     ]
    }
   ],
   "source": [
    "start = time.time()\n",
    "pipe_log = make_pipeline(StandardScaler(),LogisticRegression())\n",
    "pipe_log.fit(X_train, y_train)  # apply scaling on training data\n",
    "pipe_log.score(X_test, y_test)  # apply scaling on testing data.'' \n",
    "end = time.time()\n",
    "elapsed = end - start\n",
    "print(f'Temps d\\'exécution : {elapsed:.2}ms',pipe_log.score(X_test, y_test) ) "
   ]
  },
  {
   "cell_type": "markdown",
   "id": "af6b0f83",
   "metadata": {},
   "source": [
    "Nous avons gagné en terme de temps d'exécusion mais on remarque une chute des perfermances "
   ]
  },
  {
   "cell_type": "code",
   "execution_count": 78,
   "id": "9a8e1085",
   "metadata": {},
   "outputs": [
    {
     "name": "stdout",
     "output_type": "stream",
     "text": [
      "Temps d'exécution : 6.9ms 0.950363587395637\n"
     ]
    }
   ],
   "source": [
    "start = time.time()\n",
    "pipe_kn = make_pipeline(StandardScaler(), KNeighborsClassifier())\n",
    "pipe_kn.fit(X_train,y_train)  # apply scaling on training data\n",
    "pipe_kn.score(X_test, y_test) \n",
    "end = time.time()\n",
    "elapsed = end - start\n",
    "\n",
    "print(f'Temps d\\'exécution : {elapsed:.2}ms',pipe_kn.score(X_test, y_test) )  "
   ]
  },
  {
   "cell_type": "markdown",
   "id": "ee46f31e",
   "metadata": {},
   "source": [
    " Nous avons gagné en terme de temps d'exécusion mais on remarque une chute de la  perfermance du modèle  "
   ]
  },
  {
   "cell_type": "code",
   "execution_count": 79,
   "id": "a21221c2",
   "metadata": {},
   "outputs": [
    {
     "name": "stdout",
     "output_type": "stream",
     "text": [
      "Temps d'exécution : 0.25ms 0.9905736601131161\n"
     ]
    }
   ],
   "source": [
    "start = time.time()\n",
    "pipe_dc = make_pipeline(StandardScaler(), DecisionTreeClassifier())\n",
    "pipe_dc.fit(X_train, y_train)  # apply scaling on training data\n",
    "pipe_dc.score(X_test, y_test) \n",
    "end = time.time()\n",
    "elapsed = end - start\n",
    "print(f'Temps d\\'exécution : {elapsed:.2}ms',pipe_dc.score(X_test, y_test) ) "
   ]
  },
  {
   "cell_type": "markdown",
   "id": "4cc582c5",
   "metadata": {},
   "source": [
    " Nous avons gagné en terme de temps d exécusion mais on remarque une perte minime de la perfermance du modèle "
   ]
  },
  {
   "cell_type": "code",
   "execution_count": 80,
   "id": "84c10f8d",
   "metadata": {},
   "outputs": [
    {
     "name": "stdout",
     "output_type": "stream",
     "text": [
      "Temps d'exécution : 5.0ms 0.9926205224885537\n"
     ]
    }
   ],
   "source": [
    "start = time.time()\n",
    "pipe_rf= make_pipeline(StandardScaler(), RandomForestClassifier())\n",
    "pipe_rf.fit(X_train, y_train)  # apply scaling on training data\n",
    "pipe_rf.score(X_test, y_test) \n",
    "end = time.time()\n",
    "elapsed = end - start\n",
    "print(f'Temps d\\'exécution : {elapsed:.2}ms',pipe_rf.score(X_test, y_test) )  "
   ]
  },
  {
   "cell_type": "markdown",
   "id": "7ce374e7",
   "metadata": {},
   "source": [
    "Nous avons gagné en terme de temps d exécusion mais on remarque une perte minime de la perfermance "
   ]
  },
  {
   "cell_type": "markdown",
   "id": "6110a8ab",
   "metadata": {},
   "source": [
    "# NB : \n",
    "Cette méthode de selection a montré des mauvaises perfermances losque nous avons appliqué au KNN et au Logistic regression \n",
    "mais elle est acceptable pour RF et DT "
   ]
  },
  {
   "cell_type": "markdown",
   "id": "eb962c8b",
   "metadata": {},
   "source": [
    "# Wrapper Method "
   ]
  },
  {
   "cell_type": "code",
   "execution_count": null,
   "id": "a5ffa124",
   "metadata": {},
   "outputs": [],
   "source": [
    "X = df.drop('class', axis=1)\n",
    "y = df['class']\n",
    "X_train, X_test, y_train, y_test = train_test_split(X, y, random_state=42)\n",
    "pipe = make_pipeline(StandardScaler(), KNeighborsClassifier())\n",
    "#forward feature selection \n",
    "sfs= SFS(pipe, k_features=5,forward=True , floating=False , verbose=2,scoring='accuracy', cv=4 , n_jobs=-1).fit(X_train,y_train) "
   ]
  },
  {
   "cell_type": "code",
   "execution_count": 127,
   "id": "cb962989",
   "metadata": {},
   "outputs": [
    {
     "name": "stderr",
     "output_type": "stream",
     "text": [
      "[Parallel(n_jobs=-1)]: Using backend LokyBackend with 12 concurrent workers.\n",
      "[Parallel(n_jobs=-1)]: Done  17 tasks      | elapsed:    5.0s\n",
      "[Parallel(n_jobs=-1)]: Done 122 out of 122 | elapsed:   19.9s finished\n",
      "\n",
      "[2022-05-28 01:00:58] Features: 1/5 -- score: 0.8595976283468758[Parallel(n_jobs=-1)]: Using backend LokyBackend with 12 concurrent workers.\n",
      "[Parallel(n_jobs=-1)]: Done  17 tasks      | elapsed:    3.6s\n",
      "[Parallel(n_jobs=-1)]: Done 121 out of 121 | elapsed:   21.5s finished\n",
      "\n",
      "[2022-05-28 01:01:20] Features: 2/5 -- score: 0.9037140660728796[Parallel(n_jobs=-1)]: Using backend LokyBackend with 12 concurrent workers.\n",
      "[Parallel(n_jobs=-1)]: Done  17 tasks      | elapsed:    3.5s\n",
      "[Parallel(n_jobs=-1)]: Done 120 out of 120 | elapsed:   23.4s finished\n",
      "\n",
      "[2022-05-28 01:01:43] Features: 3/5 -- score: 0.9117491193200584[Parallel(n_jobs=-1)]: Using backend LokyBackend with 12 concurrent workers.\n",
      "[Parallel(n_jobs=-1)]: Done  17 tasks      | elapsed:    4.7s\n",
      "[Parallel(n_jobs=-1)]: Done 119 out of 119 | elapsed:   27.5s finished\n",
      "\n",
      "[2022-05-28 01:02:11] Features: 4/5 -- score: 0.9176384982560112[Parallel(n_jobs=-1)]: Using backend LokyBackend with 12 concurrent workers.\n",
      "[Parallel(n_jobs=-1)]: Done  17 tasks      | elapsed:    4.6s\n",
      "[Parallel(n_jobs=-1)]: Done 118 out of 118 | elapsed:   28.9s finished\n",
      "\n",
      "[2022-05-28 01:02:40] Features: 5/5 -- score: 0.9351629833477599"
     ]
    }
   ],
   "source": [
    "\n",
    "X = df.drop('class', axis=1)\n",
    "y = df['class']\n",
    "X_train, X_test, y_train, y_test = train_test_split(X, y, random_state=42)\n",
    "pipe = make_pipeline(StandardScaler(), LogisticRegression())\n",
    "#forward feature selection \n",
    "sfs= SFS(pipe, k_features=5,forward=True , floating=False , verbose=2,scoring='accuracy', cv=4 , n_jobs=-1).fit(X_train,y_train)"
   ]
  },
  {
   "cell_type": "code",
   "execution_count": null,
   "id": "c6a1c3ef",
   "metadata": {},
   "outputs": [],
   "source": [
    "Cette méthode nous a permis "
   ]
  },
  {
   "cell_type": "code",
   "execution_count": 128,
   "id": "6edd7377",
   "metadata": {},
   "outputs": [
    {
     "name": "stderr",
     "output_type": "stream",
     "text": [
      "[Parallel(n_jobs=-1)]: Using backend LokyBackend with 12 concurrent workers.\n",
      "[Parallel(n_jobs=-1)]: Done  17 tasks      | elapsed:    1.1s\n",
      "[Parallel(n_jobs=-1)]: Done 122 out of 122 | elapsed:    6.2s finished\n",
      "\n",
      "[2022-05-28 01:03:43] Features: 1/5 -- score: 0.9541149299513808[Parallel(n_jobs=-1)]: Using backend LokyBackend with 12 concurrent workers.\n",
      "[Parallel(n_jobs=-1)]: Done  17 tasks      | elapsed:    2.0s\n",
      "[Parallel(n_jobs=-1)]: Done 121 out of 121 | elapsed:   11.0s finished\n",
      "\n",
      "[2022-05-28 01:03:54] Features: 2/5 -- score: 0.9792884206249042[Parallel(n_jobs=-1)]: Using backend LokyBackend with 12 concurrent workers.\n",
      "[Parallel(n_jobs=-1)]: Done  17 tasks      | elapsed:    3.1s\n",
      "[Parallel(n_jobs=-1)]: Done 120 out of 120 | elapsed:   17.0s finished\n",
      "\n",
      "[2022-05-28 01:04:11] Features: 3/5 -- score: 0.9884726205411822[Parallel(n_jobs=-1)]: Using backend LokyBackend with 12 concurrent workers.\n",
      "[Parallel(n_jobs=-1)]: Done  17 tasks      | elapsed:    5.0s\n",
      "[Parallel(n_jobs=-1)]: Done 119 out of 119 | elapsed:   26.2s finished\n",
      "\n",
      "[2022-05-28 01:04:38] Features: 4/5 -- score: 0.9909594430949566[Parallel(n_jobs=-1)]: Using backend LokyBackend with 12 concurrent workers.\n",
      "[Parallel(n_jobs=-1)]: Done  17 tasks      | elapsed:    6.2s\n",
      "[Parallel(n_jobs=-1)]: Done 118 out of 118 | elapsed:   31.2s finished\n",
      "\n",
      "[2022-05-28 01:05:09] Features: 5/5 -- score: 0.9915160634308224"
     ]
    }
   ],
   "source": [
    "\n",
    "X_train, X_test, y_train, y_test = train_test_split(X, y, random_state=42)\n",
    "pipe = make_pipeline(StandardScaler(), DecisionTreeClassifier())\n",
    "#forward feature selection \n",
    "sfs= SFS(pipe, k_features=5,forward=True , floating=False , verbose=2,scoring='accuracy', cv=4 , n_jobs=-1).fit(X_train,y_train)"
   ]
  },
  {
   "cell_type": "code",
   "execution_count": 129,
   "id": "fa6a2ba6",
   "metadata": {},
   "outputs": [
    {
     "name": "stderr",
     "output_type": "stream",
     "text": [
      "[Parallel(n_jobs=-1)]: Using backend LokyBackend with 12 concurrent workers.\n",
      "[Parallel(n_jobs=-1)]: Done  17 tasks      | elapsed:   55.3s\n",
      "\n",
      "STOPPING EARLY DUE TO KEYBOARD INTERRUPT..."
     ]
    }
   ],
   "source": [
    "pipe = make_pipeline(StandardScaler(), RandomForestClassifier())\n",
    "#forward feature selection \n",
    "sfs= SFS(pipe, k_features=5,forward=True , floating=False , verbose=2,scoring='accuracy', cv=4 , n_jobs=-1).fit(X_train,y_train)"
   ]
  },
  {
   "cell_type": "markdown",
   "id": "df4ab3bf",
   "metadata": {},
   "source": [
    "#Temps d'exécusion enorme . .. \n",
    "Nous avons mis en evidence que cette méthode est perfermante en terme de selection .. la perfermance augmente à chaque étape . \n",
    "mais elle est  couteuse en terme de temps d'éxécusion . . "
   ]
  },
  {
   "cell_type": "markdown",
   "id": "b4db0ac4",
   "metadata": {},
   "source": [
    "# Feature selection by variance "
   ]
  },
  {
   "cell_type": "code",
   "execution_count": 172,
   "id": "e6337482",
   "metadata": {},
   "outputs": [
    {
     "data": {
      "text/plain": [
       "(148517, 11)"
      ]
     },
     "execution_count": 172,
     "metadata": {},
     "output_type": "execute_result"
    }
   ],
   "source": [
    "X = df.drop('class', axis=1) \n",
    "y = df['class'] \n",
    "# Some Features has very low variance \n",
    "# we can apply VarianceThreshold selector (not really recommended less complex than Wapped method)  \n",
    "from sklearn.feature_selection import VarianceThreshold \n",
    "selector= VarianceThreshold(threshold=0.25)\n",
    "selector.fit_transform(X).shape  "
   ]
  },
  {
   "cell_type": "code",
   "execution_count": 173,
   "id": "31491459",
   "metadata": {},
   "outputs": [],
   "source": [
    "X_train, X_test, y_train, y_test = train_test_split(X, y, random_state=42)    "
   ]
  },
  {
   "cell_type": "code",
   "execution_count": 174,
   "id": "044e09ab",
   "metadata": {},
   "outputs": [
    {
     "name": "stdout",
     "output_type": "stream",
     "text": [
      "Temps d'exécution : 4.1e+01ms 0.9581470509022354\n"
     ]
    },
    {
     "name": "stderr",
     "output_type": "stream",
     "text": [
      "C:\\ProgramData\\Anaconda3\\lib\\site-packages\\sklearn\\linear_model\\_logistic.py:814: ConvergenceWarning: lbfgs failed to converge (status=1):\n",
      "STOP: TOTAL NO. of ITERATIONS REACHED LIMIT.\n",
      "\n",
      "Increase the number of iterations (max_iter) or scale the data as shown in:\n",
      "    https://scikit-learn.org/stable/modules/preprocessing.html\n",
      "Please also refer to the documentation for alternative solver options:\n",
      "    https://scikit-learn.org/stable/modules/linear_model.html#logistic-regression\n",
      "  n_iter_i = _check_optimize_result(\n"
     ]
    }
   ],
   "source": [
    "end = time.time()\n",
    "pipe_log = make_pipeline(StandardScaler(),LogisticRegression())\n",
    "pipe_log.fit(X_train, y_train)  # apply scaling on training data\n",
    "pipe_log.score(X_test, y_test)  # apply scaling on testing data.'' \n",
    "end = time.time()\n",
    "elapsed = end - start\n",
    "print(f'Temps d\\'exécution : {elapsed:.2}ms',pipe_log.score(X_test, y_test) )  "
   ]
  },
  {
   "cell_type": "code",
   "execution_count": 175,
   "id": "0e241083",
   "metadata": {},
   "outputs": [
    {
     "name": "stdout",
     "output_type": "stream",
     "text": [
      "Temps d'exécution : 9.5e+01ms 0.9921896040937247\n"
     ]
    }
   ],
   "source": [
    "start = time.time()\n",
    "pipe_kn = make_pipeline(StandardScaler(), KNeighborsClassifier())\n",
    "pipe_kn.fit(X_train,y_train)  # apply scaling on training data\n",
    "pipe_kn.score(X_test, y_test) \n",
    "end = time.time()\n",
    "elapsed = end - start\n",
    "\n",
    "print(f'Temps d\\'exécution : {elapsed:.2}ms',pipe_kn.score(X_test, y_test) )  "
   ]
  },
  {
   "cell_type": "code",
   "execution_count": 176,
   "id": "8b1b15ee",
   "metadata": {},
   "outputs": [
    {
     "name": "stdout",
     "output_type": "stream",
     "text": [
      "Temps d'exécution : 1.8ms 0.9946673848639914\n"
     ]
    }
   ],
   "source": [
    "start = time.time()\n",
    "pipe_dc = make_pipeline(StandardScaler(), DecisionTreeClassifier())\n",
    "pipe_dc.fit(X_train, y_train)  # apply scaling on training data\n",
    "pipe_dc.score(X_test, y_test) \n",
    "end = time.time()\n",
    "elapsed = end - start\n",
    "print(f'Temps d\\'exécution : {elapsed:.2}ms',pipe_dc.score(X_test, y_test) ) "
   ]
  },
  {
   "cell_type": "code",
   "execution_count": 178,
   "id": "3871d554",
   "metadata": {},
   "outputs": [
    {
     "name": "stdout",
     "output_type": "stream",
     "text": [
      "Temps d'exécution : 9.6ms 0.9958254780500942\n"
     ]
    }
   ],
   "source": [
    "start = time.time()\n",
    "pipe_rf= make_pipeline(StandardScaler(), RandomForestClassifier())\n",
    "pipe_rf.fit(X_train, y_train)  # apply scaling on training data\n",
    "pipe_rf.score(X_test, y_test) \n",
    "end = time.time()\n",
    "elapsed = end - start\n",
    "print(f'Temps d\\'exécution : {elapsed:.2}ms',pipe_rf.score(X_test, y_test) )  "
   ]
  },
  {
   "cell_type": "markdown",
   "id": "1308cda0",
   "metadata": {},
   "source": [
    "Nous n'avons pas perdu en termes de calcul pour le randomForest Classifier ni en performance puisque nous sommes arrivés à sélectionner seulement 11 caractéristiques . Dans ce cas, nous allons adapter cette méthode pour la sélection des variable .  "
   ]
  }
 ],
 "metadata": {
  "kernelspec": {
   "display_name": "Python 3 (ipykernel)",
   "language": "python",
   "name": "python3"
  },
  "language_info": {
   "codemirror_mode": {
    "name": "ipython",
    "version": 3
   },
   "file_extension": ".py",
   "mimetype": "text/x-python",
   "name": "python",
   "nbconvert_exporter": "python",
   "pygments_lexer": "ipython3",
   "version": "3.9.7"
  }
 },
 "nbformat": 4,
 "nbformat_minor": 5
}
